{
 "cells": [
  {
   "cell_type": "code",
   "execution_count": 10,
   "metadata": {},
   "outputs": [],
   "source": [
    "# Merge Sort\n",
    "# time complexity: O (n log n)"
   ]
  },
  {
   "cell_type": "code",
   "execution_count": 5,
   "metadata": {},
   "outputs": [],
   "source": [
    "def merge(list1, list2):\n",
    "    combined = []\n",
    "    i = 0\n",
    "    j = 0\n",
    "    while i < len(list1) and j < len(list2):\n",
    "        if list1[i] < list2[j]:\n",
    "            combined.append(list1[i])\n",
    "            i += 1\n",
    "        else:\n",
    "            combined.append(list2[j])\n",
    "            j += 1\n",
    "    while i < len(list1):\n",
    "        combined.append(list1[i])\n",
    "        i += 1\n",
    "    while j < len(list2):\n",
    "        combined.append(list2[j])\n",
    "        j += 1\n",
    "    return combined    "
   ]
  },
  {
   "cell_type": "code",
   "execution_count": 7,
   "metadata": {},
   "outputs": [],
   "source": [
    "def merge_sort(my_list):\n",
    "    if len(my_list) == 1:\n",
    "        return my_list\n",
    "    mid = len(my_list) // 2\n",
    "    left = merge_sort(my_list[:mid])\n",
    "    right = merge_sort(my_list[mid:])\n",
    "    return merge(left, right)"
   ]
  },
  {
   "cell_type": "code",
   "execution_count": 9,
   "metadata": {},
   "outputs": [
    {
     "data": {
      "text/plain": [
       "[0, 1, 2, 3, 4, 5, 6, 7, 8, 10, 50, 100, 500, 895]"
      ]
     },
     "execution_count": 9,
     "metadata": {},
     "output_type": "execute_result"
    }
   ],
   "source": [
    "merge_sort([50, 100 , 500, 895, 2,7,8,3,4,5,6, 10, 1, 0])"
   ]
  }
 ],
 "metadata": {
  "kernelspec": {
   "display_name": "Python 3",
   "language": "python",
   "name": "python3"
  },
  "language_info": {
   "codemirror_mode": {
    "name": "ipython",
    "version": 3
   },
   "file_extension": ".py",
   "mimetype": "text/x-python",
   "name": "python",
   "nbconvert_exporter": "python",
   "pygments_lexer": "ipython3",
   "version": "3.8.3"
  }
 },
 "nbformat": 4,
 "nbformat_minor": 4
}
