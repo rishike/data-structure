{
 "cells": [
  {
   "cell_type": "code",
   "execution_count": 1,
   "id": "2ecb4862",
   "metadata": {},
   "outputs": [],
   "source": [
    "# Stacks "
   ]
  },
  {
   "cell_type": "code",
   "execution_count": 3,
   "id": "73241bd6",
   "metadata": {},
   "outputs": [],
   "source": [
    "# Constructor\n",
    "class Node:\n",
    "    def __init__(self, value):\n",
    "        self.value = value\n",
    "        self.next = None"
   ]
  },
  {
   "cell_type": "code",
   "execution_count": 23,
   "id": "c279e0a5",
   "metadata": {},
   "outputs": [],
   "source": [
    "class Stack:\n",
    "    def __init__(self, value):\n",
    "        new_node = Node(value)\n",
    "        self.top = new_node\n",
    "        self.height = 1\n",
    "    \n",
    "    def push(self, value):\n",
    "        # push it into top\n",
    "        new_node = Node(value)\n",
    "        if self.height == 0:\n",
    "            self.top = new_node\n",
    "        else:\n",
    "            new_node.next = self.top\n",
    "            self.top = new_node\n",
    "        self.height += 1\n",
    "        return True\n",
    "    \n",
    "    def pop(self):\n",
    "        # remove it from top\n",
    "        if self.height == 0:\n",
    "            return None\n",
    "        temp = self.top\n",
    "        self.top = self.top.next\n",
    "        temp.next = None\n",
    "        self.height -= 1\n",
    "        return temp\n",
    "        \n",
    "    def print_stack(self):\n",
    "        temp = self.top\n",
    "        while temp is not None:\n",
    "            print(temp.value)\n",
    "            temp = temp.next"
   ]
  },
  {
   "cell_type": "code",
   "execution_count": 24,
   "id": "bf1a7a77",
   "metadata": {},
   "outputs": [],
   "source": [
    "# Initializing a stack\n",
    "my_stack = Stack(4)"
   ]
  },
  {
   "cell_type": "code",
   "execution_count": 25,
   "id": "b61c350a",
   "metadata": {},
   "outputs": [
    {
     "data": {
      "text/plain": [
       "True"
      ]
     },
     "execution_count": 25,
     "metadata": {},
     "output_type": "execute_result"
    }
   ],
   "source": [
    "# Stack push method\n",
    "my_stack.push(10)\n",
    "my_stack.push(12)\n",
    "my_stack.push(5)"
   ]
  },
  {
   "cell_type": "code",
   "execution_count": 27,
   "id": "6609e4dc",
   "metadata": {},
   "outputs": [
    {
     "data": {
      "text/plain": [
       "12"
      ]
     },
     "execution_count": 27,
     "metadata": {},
     "output_type": "execute_result"
    }
   ],
   "source": [
    "# Popping the item from stack\n",
    "# case 1: if more than one item\n",
    "my_stack.pop().value"
   ]
  },
  {
   "cell_type": "code",
   "execution_count": 32,
   "id": "bf1bb278",
   "metadata": {},
   "outputs": [
    {
     "name": "stdout",
     "output_type": "stream",
     "text": [
      "None\n"
     ]
    }
   ],
   "source": [
    "# Popping the item from stack\n",
    "# case 2: if no item print None\n",
    "print(my_stack.pop())"
   ]
  },
  {
   "cell_type": "code",
   "execution_count": 22,
   "id": "0cda5b56",
   "metadata": {},
   "outputs": [
    {
     "name": "stdout",
     "output_type": "stream",
     "text": [
      "10\n",
      "4\n"
     ]
    }
   ],
   "source": [
    "my_stack.print_stack()"
   ]
  }
 ],
 "metadata": {
  "kernelspec": {
   "display_name": "Python 3",
   "language": "python",
   "name": "python3"
  },
  "language_info": {
   "codemirror_mode": {
    "name": "ipython",
    "version": 3
   },
   "file_extension": ".py",
   "mimetype": "text/x-python",
   "name": "python",
   "nbconvert_exporter": "python",
   "pygments_lexer": "ipython3",
   "version": "3.8.8"
  }
 },
 "nbformat": 4,
 "nbformat_minor": 5
}
