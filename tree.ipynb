{
 "cells": [
  {
   "cell_type": "code",
   "execution_count": 2,
   "metadata": {},
   "outputs": [],
   "source": [
    "# Binary Search Tree"
   ]
  },
  {
   "cell_type": "code",
   "execution_count": 11,
   "metadata": {},
   "outputs": [],
   "source": [
    "class Node:\n",
    "    def __init__(self, value):\n",
    "        self.value = value\n",
    "        self.left = None\n",
    "        self.right = None"
   ]
  },
  {
   "cell_type": "code",
   "execution_count": 47,
   "metadata": {},
   "outputs": [],
   "source": [
    "class BinarySearchTree:\n",
    "    def __init__(self):\n",
    "        self.root = None\n",
    "    \n",
    "    def insert(self, value):\n",
    "        new_node = Node(value)\n",
    "        if self.root is None:\n",
    "            self.root = new_node\n",
    "            return True\n",
    "        temp = self.root\n",
    "        while True:\n",
    "            if new_node.value == temp.value:\n",
    "                return False\n",
    "            if new_node.value < temp.value:\n",
    "                if temp.left is None:\n",
    "                    temp.left = new_node\n",
    "                    return True\n",
    "                temp = temp.left\n",
    "            else:\n",
    "                if temp.right is None:\n",
    "                    temp.right = new_node\n",
    "                    return True\n",
    "                temp = temp.right\n",
    "    \n",
    "    def contains(self, value):\n",
    "        temp = self.root\n",
    "        while temp is not None:\n",
    "            if value < temp.value:\n",
    "                temp = temp.left\n",
    "            elif value > temp.value:\n",
    "                temp = temp.right\n",
    "            else:\n",
    "                return True\n",
    "        return False\n",
    "    \n",
    "    # Minimum Value of give node\n",
    "    def min_value_node(self, current_node):\n",
    "        while current_node.left is not None:\n",
    "            current_node = current_node.left\n",
    "        return current_node\n",
    "    \n",
    "    # Breadth First Search\n",
    "    # Start from Top Node, Then go to next Node\n",
    "    # At Next, Traverse all node at current level from left to right\n",
    "    # Repeat the Above Step till last node\n",
    "    def BFS(self):\n",
    "        current_node = self.root\n",
    "        queue = []\n",
    "        results = []\n",
    "        queue.append(current_node)\n",
    "        while len(queue) > 0:\n",
    "            current_node = queue.pop(0)\n",
    "            results.append(current_node.value)\n",
    "            if current_node.left is not None:\n",
    "                queue.append(current_node.left)\n",
    "                if current_node.right is not None:\n",
    "                    queue.append(current_node.right)\n",
    "        return results\n",
    "    \n",
    "    # DFS:Pre-Order:\n",
    "    # Start at Top\n",
    "    # Go to left node traverse till leaf node, \n",
    "    # then traverse right till leaf node\n",
    "    # Repeat the Above stop\n",
    "    # top -> left -> right \n",
    "    def dfs_pre_order(self):\n",
    "        results = []\n",
    "        def traverse(current_node):\n",
    "            results.append(current_node.value)\n",
    "            if current_node.left is not None:\n",
    "                traverse(current_node.left)\n",
    "            if current_node.right is not None:\n",
    "                traverse(current_node.right)\n",
    "        traverse(self.root)\n",
    "        return results\n",
    "    \n",
    "    # DFS:Post-order\n",
    "    # Print Left leaf node first and traverse from left to right\n",
    "    # In the End print Top node\n",
    "    def dfs_post_order(self):\n",
    "        results = []\n",
    "        def traverse(current_node):\n",
    "            if current_node.left is not None:\n",
    "                traverse(current_node.left)\n",
    "            if current_node.right is not None:\n",
    "                traverse(current_node.right)\n",
    "            results.append(current_node.value)\n",
    "        traverse(self.root)\n",
    "        return results\n",
    "    \n",
    "    # DFS : In order \n",
    "    # Print the Lowest value first then Right\n",
    "    # Traverse Left to right\n",
    "    # Lowest -- Greatest\n",
    "    def dfs_in_order(self):\n",
    "        results = []\n",
    "        def traverse(current_node):\n",
    "            if current_node.left is not None:\n",
    "                traverse(current_node.left)\n",
    "            results.append(current_node.value)\n",
    "            if current_node.right is not None:\n",
    "                traverse(current_node.right)\n",
    "        traverse(self.root)\n",
    "        return results"
   ]
  },
  {
   "cell_type": "code",
   "execution_count": 48,
   "metadata": {},
   "outputs": [],
   "source": [
    "my_tree = BinarySearchTree()"
   ]
  },
  {
   "cell_type": "code",
   "execution_count": 49,
   "metadata": {},
   "outputs": [
    {
     "data": {
      "text/plain": [
       "True"
      ]
     },
     "execution_count": 49,
     "metadata": {},
     "output_type": "execute_result"
    }
   ],
   "source": [
    "# Inserting root node\n",
    "my_tree.insert(47)\n",
    "my_tree.insert(21)\n",
    "my_tree.insert(76)\n",
    "my_tree.insert(18)\n",
    "my_tree.insert(27)\n",
    "my_tree.insert(52)\n",
    "my_tree.insert(82)"
   ]
  },
  {
   "cell_type": "code",
   "execution_count": 50,
   "metadata": {},
   "outputs": [
    {
     "data": {
      "text/plain": [
       "47"
      ]
     },
     "execution_count": 50,
     "metadata": {},
     "output_type": "execute_result"
    }
   ],
   "source": [
    "my_tree.root.value"
   ]
  },
  {
   "cell_type": "code",
   "execution_count": 51,
   "metadata": {},
   "outputs": [
    {
     "data": {
      "text/plain": [
       "[47, 21, 76, 18, 27, 52, 82]"
      ]
     },
     "execution_count": 51,
     "metadata": {},
     "output_type": "execute_result"
    }
   ],
   "source": [
    "# Breadth First Search\n",
    "my_tree.BFS()"
   ]
  },
  {
   "cell_type": "code",
   "execution_count": 52,
   "metadata": {},
   "outputs": [
    {
     "data": {
      "text/plain": [
       "[47, 21, 18, 27, 76, 52, 82]"
      ]
     },
     "execution_count": 52,
     "metadata": {},
     "output_type": "execute_result"
    }
   ],
   "source": [
    "# Depth First Search: Pre-Order\n",
    "my_tree.dfs_pre_order()"
   ]
  },
  {
   "cell_type": "code",
   "execution_count": 53,
   "metadata": {},
   "outputs": [
    {
     "data": {
      "text/plain": [
       "[18, 27, 21, 52, 82, 76, 47]"
      ]
     },
     "execution_count": 53,
     "metadata": {},
     "output_type": "execute_result"
    }
   ],
   "source": [
    "# Depth First Search: Post-Order\n",
    "my_tree.dfs_post_order()"
   ]
  },
  {
   "cell_type": "code",
   "execution_count": 54,
   "metadata": {},
   "outputs": [
    {
     "data": {
      "text/plain": [
       "[18, 21, 27, 47, 52, 76, 82]"
      ]
     },
     "execution_count": 54,
     "metadata": {},
     "output_type": "execute_result"
    }
   ],
   "source": [
    "# Depth First Search: In-Order\n",
    "my_tree.dfs_in_order()"
   ]
  },
  {
   "cell_type": "code",
   "execution_count": 16,
   "metadata": {},
   "outputs": [
    {
     "data": {
      "text/plain": [
       "False"
      ]
     },
     "execution_count": 16,
     "metadata": {},
     "output_type": "execute_result"
    }
   ],
   "source": [
    "# check value contain or not\n",
    "# case 1: not exist\n",
    "my_tree.contains(90)"
   ]
  },
  {
   "cell_type": "code",
   "execution_count": 17,
   "metadata": {},
   "outputs": [
    {
     "data": {
      "text/plain": [
       "False"
      ]
     },
     "execution_count": 17,
     "metadata": {},
     "output_type": "execute_result"
    }
   ],
   "source": [
    "# check value contain or not\n",
    "# case 2: if it is equals tree\n",
    "my_tree.contains(10)"
   ]
  },
  {
   "cell_type": "code",
   "execution_count": 9,
   "metadata": {},
   "outputs": [
    {
     "data": {
      "text/plain": [
       "False"
      ]
     },
     "execution_count": 9,
     "metadata": {},
     "output_type": "execute_result"
    }
   ],
   "source": [
    "# check value contain or not\n",
    "# case 3: value exist\n",
    "my_tree.contains(9)"
   ]
  },
  {
   "cell_type": "code",
   "execution_count": 18,
   "metadata": {},
   "outputs": [
    {
     "data": {
      "text/plain": [
       "18"
      ]
     },
     "execution_count": 18,
     "metadata": {},
     "output_type": "execute_result"
    }
   ],
   "source": [
    "# Find the value of given node\n",
    "min_value = my_tree.min_value_node(my_tree.root)\n",
    "min_value.value"
   ]
  },
  {
   "cell_type": "code",
   "execution_count": 55,
   "metadata": {},
   "outputs": [
    {
     "data": {
      "text/plain": [
       "True"
      ]
     },
     "execution_count": 55,
     "metadata": {},
     "output_type": "execute_result"
    }
   ],
   "source": [
    "# on left and right\n",
    "my_tree.insert(9)\n",
    "my_tree.insert(11)"
   ]
  }
 ],
 "metadata": {
  "kernelspec": {
   "display_name": "Python 3",
   "language": "python",
   "name": "python3"
  },
  "language_info": {
   "codemirror_mode": {
    "name": "ipython",
    "version": 3
   },
   "file_extension": ".py",
   "mimetype": "text/x-python",
   "name": "python",
   "nbconvert_exporter": "python",
   "pygments_lexer": "ipython3",
   "version": "3.8.3"
  }
 },
 "nbformat": 4,
 "nbformat_minor": 4
}
