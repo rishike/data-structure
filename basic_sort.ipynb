{
 "cells": [
  {
   "cell_type": "code",
   "execution_count": 1,
   "metadata": {},
   "outputs": [],
   "source": [
    "# Bubble sort\n",
    "def bubble_sort(my_list):\n",
    "    for i in range(len(my_list) - 1, 0, -1):\n",
    "        for j in range(i):\n",
    "            if my_list[j] > my_list[j+1]:\n",
    "                temp = my_list[j]\n",
    "                my_list[j] = my_list[j+1]\n",
    "                my_list[j+1] = temp\n",
    "    return my_list"
   ]
  },
  {
   "cell_type": "code",
   "execution_count": 2,
   "metadata": {},
   "outputs": [
    {
     "data": {
      "text/plain": [
       "[1, 2, 3, 4, 5, 6]"
      ]
     },
     "execution_count": 2,
     "metadata": {},
     "output_type": "execute_result"
    }
   ],
   "source": [
    "bubble_sort([4,2,6,5,1,3])"
   ]
  },
  {
   "cell_type": "code",
   "execution_count": 3,
   "metadata": {},
   "outputs": [],
   "source": [
    "# Selection Sort\n",
    "def selection_sort(my_list):\n",
    "    for i in range(len(my_list)-1):\n",
    "        min_index = i\n",
    "        for j in range(i+1, len(my_list)):\n",
    "            if my_list[j] < my_list[min_index]:\n",
    "                min_index = j\n",
    "        if i != min_index:\n",
    "            temp = my_list[i]\n",
    "            my_list[i] = my_list[min_index]\n",
    "            my_list[min_index] = temp\n",
    "    return my_list"
   ]
  },
  {
   "cell_type": "code",
   "execution_count": 4,
   "metadata": {},
   "outputs": [
    {
     "data": {
      "text/plain": [
       "[1, 2, 3, 4, 5, 6]"
      ]
     },
     "execution_count": 4,
     "metadata": {},
     "output_type": "execute_result"
    }
   ],
   "source": [
    "selection_sort([4,2,6,5,1,3])"
   ]
  },
  {
   "cell_type": "code",
   "execution_count": 33,
   "metadata": {},
   "outputs": [],
   "source": [
    "def selection_sort2(arr):\n",
    "    size = len(arr)\n",
    "    for i in range(size-1):\n",
    "        min_index = i\n",
    "        for j in range(min_index+1, size):\n",
    "            if arr[j] < arr[min_index]:\n",
    "                min_index = j\n",
    "        if i != min_index:\n",
    "            arr[i], arr[min_index] = arr[min_index], arr[i]\n",
    "    return arr"
   ]
  },
  {
   "cell_type": "code",
   "execution_count": 34,
   "metadata": {},
   "outputs": [],
   "source": [
    "elements = [78, 12, 15, 8, 2, 61, 53, 23, 27]"
   ]
  },
  {
   "cell_type": "code",
   "execution_count": 35,
   "metadata": {},
   "outputs": [
    {
     "data": {
      "text/plain": [
       "[2, 8, 12, 15, 23, 27, 53, 61, 78]"
      ]
     },
     "execution_count": 35,
     "metadata": {},
     "output_type": "execute_result"
    }
   ],
   "source": [
    "selection_sort2(elements)"
   ]
  },
  {
   "cell_type": "code",
   "execution_count": 19,
   "metadata": {},
   "outputs": [],
   "source": [
    "# Question: \n",
    "# A single dictionary entry contains two keys 'First Name' and 'Last Name'. \n",
    "# the list should be sorted first based on 'First Name', then based on 'Last Name', \n",
    "# w.r.t. common/same 'First Name' entries.\n",
    "# for this, one shall past sorting order of preference list [ 'First Name' , 'Last Name' ].\n",
    "# For this, Given the following sequence List:\n",
    "unsorted_seq = [\n",
    "    {'First Name': 'Raj', 'Last Name': 'Nayyar'},\n",
    "    {'First Name': 'Suraj', 'Last Name': 'Sharma'},\n",
    "    {'First Name': 'Karan', 'Last Name': 'Kumar'},\n",
    "    {'First Name': 'Jade', 'Last Name': 'Canary'},\n",
    "    {'First Name': 'Raj', 'Last Name': 'Thakur'},\n",
    "    {'First Name': 'Raj', 'Last Name': 'Sharma'},\n",
    "    {'First Name': 'Kiran', 'Last Name': 'Kamla'},\n",
    "    {'First Name': 'Armaan', 'Last Name': 'Kumar'},\n",
    "    {'First Name': 'Jaya', 'Last Name': 'Sharma'},\n",
    "    {'First Name': 'Ingrid', 'Last Name': 'Galore'},\n",
    "    {'First Name': 'Jaya', 'Last Name': 'Seth'},\n",
    "    {'First Name': 'Armaan', 'Last Name': 'Dadra'},\n",
    "    {'First Name': 'Ingrid', 'Last Name': 'Maverick'},\n",
    "    {'First Name': 'Aahana', 'Last Name': 'Arora'}\n",
    "]"
   ]
  },
  {
   "cell_type": "code",
   "execution_count": 22,
   "metadata": {},
   "outputs": [],
   "source": [
    "# Answer:\n",
    "unsorted_seq_len = len(unsorted_seq)\n",
    "\n",
    "sort_by = ['Last Name', 'First Name']\n",
    "\n",
    "for x in sort_by:\n",
    "    for i in range(unsorted_seq_len):\n",
    "        min_index = i\n",
    "        for j in range(i, unsorted_seq_len):\n",
    "            if unsorted_seq[j][x] < unsorted_seq[min_index][x]:\n",
    "                min_index = j\n",
    "            if i != min_index:\n",
    "                unsorted_seq[i], unsorted_seq[min_index] = unsorted_seq[min_index], unsorted_seq[i]"
   ]
  },
  {
   "cell_type": "code",
   "execution_count": 23,
   "metadata": {},
   "outputs": [
    {
     "data": {
      "text/plain": [
       "[{'First Name': 'Aahana', 'Last Name': 'Arora'},\n",
       " {'First Name': 'Armaan', 'Last Name': 'Dadra'},\n",
       " {'First Name': 'Armaan', 'Last Name': 'Kumar'},\n",
       " {'First Name': 'Ingrid', 'Last Name': 'Maverick'},\n",
       " {'First Name': 'Ingrid', 'Last Name': 'Galore'},\n",
       " {'First Name': 'Jade', 'Last Name': 'Canary'},\n",
       " {'First Name': 'Karan', 'Last Name': 'Kumar'},\n",
       " {'First Name': 'Kiran', 'Last Name': 'Kamla'},\n",
       " {'First Name': 'Jaya', 'Last Name': 'Seth'},\n",
       " {'First Name': 'Raj', 'Last Name': 'Nayyar'},\n",
       " {'First Name': 'Jaya', 'Last Name': 'Sharma'},\n",
       " {'First Name': 'Raj', 'Last Name': 'Thakur'},\n",
       " {'First Name': 'Raj', 'Last Name': 'Sharma'},\n",
       " {'First Name': 'Suraj', 'Last Name': 'Sharma'}]"
      ]
     },
     "execution_count": 23,
     "metadata": {},
     "output_type": "execute_result"
    }
   ],
   "source": [
    "unsorted_seq"
   ]
  },
  {
   "cell_type": "code",
   "execution_count": 24,
   "metadata": {},
   "outputs": [],
   "source": [
    "# Insertion Sort\n",
    "# Time: O(n^2)\n",
    "def insertion_code(my_list):\n",
    "    for i in range(1, len(my_list)):\n",
    "        temp = my_list[i]\n",
    "        j = i-1\n",
    "        while temp < my_list[j] and j > -1:\n",
    "            my_list[j+1] = my_list[j]\n",
    "            my_list[j] = temp\n",
    "            j -= 1\n",
    "    return my_list"
   ]
  },
  {
   "cell_type": "code",
   "execution_count": 25,
   "metadata": {},
   "outputs": [
    {
     "data": {
      "text/plain": [
       "[1, 2, 3, 4, 5, 6]"
      ]
     },
     "execution_count": 25,
     "metadata": {},
     "output_type": "execute_result"
    }
   ],
   "source": [
    "insertion_code([4,2,6,5,1,3])"
   ]
  },
  {
   "cell_type": "code",
   "execution_count": 35,
   "metadata": {},
   "outputs": [],
   "source": [
    "# Shell sort\n",
    "def shell_sort(arr):\n",
    "    size = len(arr)\n",
    "    gap = size // 2\n",
    "    while gap > 0:\n",
    "        for i in range(gap, size):\n",
    "            anchor = arr[i]\n",
    "            j = i\n",
    "            while j >= gap and arr[j-gap] > anchor:\n",
    "                print(anchor, gap, end='\\n')\n",
    "                arr[j] = arr[j-gap]\n",
    "                j -= gap\n",
    "            arr[j] = anchor\n",
    "        gap = gap // 2\n",
    "    return arr"
   ]
  },
  {
   "cell_type": "code",
   "execution_count": 36,
   "metadata": {},
   "outputs": [
    {
     "name": "stdout",
     "output_type": "stream",
     "text": [
      "4 4\n",
      "25 4\n",
      "11 4\n",
      "9 4\n",
      "17 2\n",
      "9 2\n",
      "32 2\n",
      "21 2\n",
      "9 1\n",
      "11 1\n",
      "11 1\n",
      "21 1\n",
      "21 1\n",
      "29 1\n",
      "29 1\n"
     ]
    },
    {
     "data": {
      "text/plain": [
       "[4, 9, 11, 17, 21, 25, 29, 32, 38]"
      ]
     },
     "execution_count": 36,
     "metadata": {},
     "output_type": "execute_result"
    }
   ],
   "source": [
    "shell_sort([21, 38, 29, 17, 4, 25, 11, 32, 9])"
   ]
  }
 ],
 "metadata": {
  "kernelspec": {
   "display_name": "Python 3",
   "language": "python",
   "name": "python3"
  },
  "language_info": {
   "codemirror_mode": {
    "name": "ipython",
    "version": 3
   },
   "file_extension": ".py",
   "mimetype": "text/x-python",
   "name": "python",
   "nbconvert_exporter": "python",
   "pygments_lexer": "ipython3",
   "version": "3.8.3"
  }
 },
 "nbformat": 4,
 "nbformat_minor": 4
}
