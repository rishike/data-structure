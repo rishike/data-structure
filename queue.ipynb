{
 "cells": [
  {
   "cell_type": "code",
   "execution_count": null,
   "id": "8c0faf0c",
   "metadata": {},
   "outputs": [],
   "source": [
    "# Queue"
   ]
  },
  {
   "cell_type": "code",
   "execution_count": 11,
   "id": "a760b730",
   "metadata": {},
   "outputs": [],
   "source": [
    "class Node:\n",
    "    def __init__(self, value):\n",
    "        self.value = value\n",
    "        self.next = None"
   ]
  },
  {
   "cell_type": "code",
   "execution_count": 12,
   "id": "15908262",
   "metadata": {},
   "outputs": [],
   "source": [
    "class Queue:\n",
    "    \n",
    "    def __init__(self, value):\n",
    "        new_node = Node(value)\n",
    "        self.first = new_node\n",
    "        self.last = new_node\n",
    "        self.length = 1\n",
    "    \n",
    "    def enqueue(self, value):\n",
    "        new_node = Node(value)\n",
    "        if self.first is None:\n",
    "            self.first = new_node\n",
    "            self.last = new_node\n",
    "        else:\n",
    "            self.last.next = new_node\n",
    "            self.last = new_node\n",
    "        self.length += 1\n",
    "        return True\n",
    "    \n",
    "    def dequeue(self):\n",
    "        if self.length == 0:\n",
    "            return None\n",
    "        temp = self.first\n",
    "        if self.length == 1:\n",
    "            self.first = None\n",
    "            self.last = None\n",
    "        else:\n",
    "            self.first = self.first.next\n",
    "            temp.next = None\n",
    "        self.length -= 1\n",
    "        return temp\n",
    "    \n",
    "    def print_queue(self):\n",
    "        temp = self.first\n",
    "        while temp is not None:\n",
    "            print(temp.value)\n",
    "            temp = temp.next"
   ]
  },
  {
   "cell_type": "code",
   "execution_count": 13,
   "id": "1a8d92ac",
   "metadata": {},
   "outputs": [],
   "source": [
    "# creating a Queue\n",
    "my_queue = Queue(4)"
   ]
  },
  {
   "cell_type": "code",
   "execution_count": 14,
   "id": "6ed28626",
   "metadata": {},
   "outputs": [
    {
     "data": {
      "text/plain": [
       "True"
      ]
     },
     "execution_count": 14,
     "metadata": {},
     "output_type": "execute_result"
    }
   ],
   "source": [
    "# adding a value in queue\n",
    "# enqueue\n",
    "my_queue.enqueue(10)"
   ]
  },
  {
   "cell_type": "code",
   "execution_count": 15,
   "id": "2a7606b3",
   "metadata": {},
   "outputs": [
    {
     "data": {
      "text/plain": [
       "4"
      ]
     },
     "execution_count": 15,
     "metadata": {},
     "output_type": "execute_result"
    }
   ],
   "source": [
    "# removing a value from queue\n",
    "# dequeue process\n",
    "# case 1: if more than one items\n",
    "my_queue.dequeue().value"
   ]
  },
  {
   "cell_type": "code",
   "execution_count": 16,
   "id": "2d1db1d7",
   "metadata": {},
   "outputs": [
    {
     "data": {
      "text/plain": [
       "10"
      ]
     },
     "execution_count": 16,
     "metadata": {},
     "output_type": "execute_result"
    }
   ],
   "source": [
    "# removing a value from queue\n",
    "# dequeue process\n",
    "# case 2: if one items\n",
    "my_queue.dequeue().value"
   ]
  },
  {
   "cell_type": "code",
   "execution_count": 17,
   "id": "41ecc26e",
   "metadata": {},
   "outputs": [
    {
     "name": "stdout",
     "output_type": "stream",
     "text": [
      "None\n"
     ]
    }
   ],
   "source": [
    "# removing a value from queue\n",
    "# dequeue process\n",
    "# case 1: if no items present\n",
    "print(my_queue.dequeue())"
   ]
  },
  {
   "cell_type": "code",
   "execution_count": 10,
   "id": "274a982c",
   "metadata": {},
   "outputs": [
    {
     "name": "stdout",
     "output_type": "stream",
     "text": [
      "4\n",
      "10\n"
     ]
    }
   ],
   "source": [
    "# print the queue\n",
    "my_queue.print_queue()"
   ]
  }
 ],
 "metadata": {
  "kernelspec": {
   "display_name": "Python 3",
   "language": "python",
   "name": "python3"
  },
  "language_info": {
   "codemirror_mode": {
    "name": "ipython",
    "version": 3
   },
   "file_extension": ".py",
   "mimetype": "text/x-python",
   "name": "python",
   "nbconvert_exporter": "python",
   "pygments_lexer": "ipython3",
   "version": "3.8.8"
  }
 },
 "nbformat": 4,
 "nbformat_minor": 5
}
