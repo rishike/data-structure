{
 "cells": [
  {
   "cell_type": "code",
   "execution_count": 31,
   "id": "06a79f5d",
   "metadata": {},
   "outputs": [],
   "source": [
    "# Linked list Node\n",
    "\n",
    "class Node:\n",
    "    def __init__(self, val):\n",
    "        self.val = val\n",
    "        self.next = None\n",
    "    \n",
    "    def __repr__(self):\n",
    "        return f\"Node {self.val}\""
   ]
  },
  {
   "cell_type": "code",
   "execution_count": 117,
   "id": "65ac2e3b",
   "metadata": {},
   "outputs": [],
   "source": [
    "a = Node('a')\n",
    "b = Node('b')\n",
    "c = Node('c')\n",
    "d = Node('d')"
   ]
  },
  {
   "cell_type": "code",
   "execution_count": 118,
   "id": "979992d3",
   "metadata": {},
   "outputs": [],
   "source": [
    "# a -> b -> c -> d -> None\n",
    "a.next = b\n",
    "b.next = c\n",
    "c.next = d"
   ]
  },
  {
   "cell_type": "code",
   "execution_count": 119,
   "id": "4d3bc66a",
   "metadata": {},
   "outputs": [],
   "source": [
    "def printLinkedList(head):\n",
    "    current = head\n",
    "    while current is not None:\n",
    "        print(current.val)\n",
    "        current = current.next"
   ]
  },
  {
   "cell_type": "code",
   "execution_count": 122,
   "id": "a436c5d1",
   "metadata": {},
   "outputs": [
    {
     "name": "stdout",
     "output_type": "stream",
     "text": [
      "a\n",
      "b\n",
      "c\n",
      "d\n"
     ]
    }
   ],
   "source": [
    "printLinkedList(a)"
   ]
  },
  {
   "cell_type": "code",
   "execution_count": 12,
   "id": "2341d011",
   "metadata": {},
   "outputs": [],
   "source": [
    "## Recursive way\n",
    "def printLinkedList2(head):\n",
    "    if head is None:\n",
    "        return\n",
    "    print(head.val)\n",
    "    printLinkedList2(head.next)\n",
    "        "
   ]
  },
  {
   "cell_type": "code",
   "execution_count": 13,
   "id": "0821f0dd",
   "metadata": {},
   "outputs": [
    {
     "name": "stdout",
     "output_type": "stream",
     "text": [
      "a\n",
      "b\n",
      "c\n",
      "d\n"
     ]
    }
   ],
   "source": [
    "printLinkedList2(a)"
   ]
  },
  {
   "cell_type": "markdown",
   "id": "59e83637",
   "metadata": {},
   "source": [
    "### Write a function, linked_list_values, that takes in the head of a linked list as an argument. The function should return a list containing all values of the nodes in the linked list."
   ]
  },
  {
   "cell_type": "code",
   "execution_count": 146,
   "id": "4958b289",
   "metadata": {},
   "outputs": [],
   "source": [
    "def linkedListValues(head):\n",
    "    values = []\n",
    "    current = head\n",
    "    while(current is not None):\n",
    "        values.append(current.val)\n",
    "        crnt = current\n",
    "        current = current.next\n",
    "    return values"
   ]
  },
  {
   "cell_type": "code",
   "execution_count": 147,
   "id": "dc0101a8",
   "metadata": {},
   "outputs": [
    {
     "data": {
      "text/plain": [
       "['a', 'b', 'c', 'd']"
      ]
     },
     "execution_count": 147,
     "metadata": {},
     "output_type": "execute_result"
    }
   ],
   "source": [
    "linkedListValues(a)"
   ]
  },
  {
   "cell_type": "code",
   "execution_count": 30,
   "id": "a13d283d",
   "metadata": {},
   "outputs": [],
   "source": [
    "## Recursive way\n",
    "values = []\n",
    "def linkedListValues2(head):\n",
    "    if head is None:\n",
    "        return\n",
    "    values.append(head.val)\n",
    "    linkedListValues2(head.next)"
   ]
  },
  {
   "cell_type": "code",
   "execution_count": 31,
   "id": "b5a9f8ca",
   "metadata": {},
   "outputs": [
    {
     "data": {
      "text/plain": [
       "['a', 'b', 'c', 'd']"
      ]
     },
     "execution_count": 31,
     "metadata": {},
     "output_type": "execute_result"
    }
   ],
   "source": [
    "linkedListValues2(a)\n",
    "values"
   ]
  },
  {
   "cell_type": "markdown",
   "id": "c5d187c6",
   "metadata": {},
   "source": [
    "### Write a function, sum_list, that takes in the head of a linked list containing numbers as an argument. \n",
    "### The function should return the total sum of all values in the linked list."
   ]
  },
  {
   "cell_type": "code",
   "execution_count": 32,
   "id": "472866e6",
   "metadata": {},
   "outputs": [],
   "source": [
    "a = Node(2)\n",
    "b = Node(8)\n",
    "c = Node(3)\n",
    "d = Node(-1)\n",
    "e = Node(7)"
   ]
  },
  {
   "cell_type": "code",
   "execution_count": 33,
   "id": "3a4f9c91",
   "metadata": {},
   "outputs": [],
   "source": [
    "a.next = b\n",
    "b.next = c\n",
    "c.next = d\n",
    "d.next = e"
   ]
  },
  {
   "cell_type": "code",
   "execution_count": 34,
   "id": "47b20e47",
   "metadata": {},
   "outputs": [
    {
     "data": {
      "text/plain": [
       "2"
      ]
     },
     "execution_count": 34,
     "metadata": {},
     "output_type": "execute_result"
    }
   ],
   "source": [
    "a.val"
   ]
  },
  {
   "cell_type": "code",
   "execution_count": 37,
   "id": "b8967989",
   "metadata": {},
   "outputs": [],
   "source": [
    "def sum_list(head):\n",
    "    total_sum = 0\n",
    "    current = head\n",
    "    while current is not None:\n",
    "        total_sum += current.val\n",
    "        current = current.next\n",
    "    return total_sum"
   ]
  },
  {
   "cell_type": "code",
   "execution_count": 38,
   "id": "a5b992d1",
   "metadata": {},
   "outputs": [
    {
     "data": {
      "text/plain": [
       "19"
      ]
     },
     "execution_count": 38,
     "metadata": {},
     "output_type": "execute_result"
    }
   ],
   "source": [
    "sum_list(a)"
   ]
  },
  {
   "cell_type": "code",
   "execution_count": 41,
   "id": "3bb809d1",
   "metadata": {},
   "outputs": [],
   "source": [
    "### Recursive list\n",
    "def sum_list2(head):\n",
    "    if head is None:\n",
    "        return 0;\n",
    "    return head.val + sum_list2(head.next)"
   ]
  },
  {
   "cell_type": "code",
   "execution_count": 42,
   "id": "a31e98f6",
   "metadata": {},
   "outputs": [
    {
     "data": {
      "text/plain": [
       "19"
      ]
     },
     "execution_count": 42,
     "metadata": {},
     "output_type": "execute_result"
    }
   ],
   "source": [
    "sum_list2(a)"
   ]
  },
  {
   "cell_type": "markdown",
   "id": "d92857a5",
   "metadata": {},
   "source": [
    "### Write a function, linked_list_find, that takes in the head of a linked list and a target value. \n",
    "### The function should return a boolean indicating whether or not the linked list contains the target."
   ]
  },
  {
   "cell_type": "code",
   "execution_count": 43,
   "id": "fb02388a",
   "metadata": {},
   "outputs": [],
   "source": [
    "def linked_list_find(head, target):\n",
    "    current = head\n",
    "    while current is not None:\n",
    "        if current.val == target:\n",
    "            return True\n",
    "        current = current.next\n",
    "    return False"
   ]
  },
  {
   "cell_type": "code",
   "execution_count": 44,
   "id": "8ed924fc",
   "metadata": {},
   "outputs": [],
   "source": [
    "a = Node(\"a\")\n",
    "b = Node(\"b\")\n",
    "c = Node(\"c\")\n",
    "d = Node(\"d\")"
   ]
  },
  {
   "cell_type": "code",
   "execution_count": 45,
   "id": "41197e5d",
   "metadata": {},
   "outputs": [],
   "source": [
    "a.next = b\n",
    "b.next = c\n",
    "c.next = d"
   ]
  },
  {
   "cell_type": "code",
   "execution_count": 47,
   "id": "d76c9c5c",
   "metadata": {},
   "outputs": [
    {
     "data": {
      "text/plain": [
       "False"
      ]
     },
     "execution_count": 47,
     "metadata": {},
     "output_type": "execute_result"
    }
   ],
   "source": [
    "linked_list_find(a, \"e\")"
   ]
  },
  {
   "cell_type": "code",
   "execution_count": 55,
   "id": "e5d0777c",
   "metadata": {},
   "outputs": [],
   "source": [
    "## Recursive\n",
    "def linked_list_find2(head, target):\n",
    "    if head is None:\n",
    "        return False\n",
    "    if head.val == target:\n",
    "        return True\n",
    "    return linked_list_find2(head.next, target)"
   ]
  },
  {
   "cell_type": "code",
   "execution_count": 57,
   "id": "08456983",
   "metadata": {},
   "outputs": [
    {
     "data": {
      "text/plain": [
       "False"
      ]
     },
     "execution_count": 57,
     "metadata": {},
     "output_type": "execute_result"
    }
   ],
   "source": [
    "linked_list_find2(a, 'e')"
   ]
  },
  {
   "cell_type": "markdown",
   "id": "3a51f9de",
   "metadata": {},
   "source": [
    "### Write a function, get_node_value, that takes in the head of a linked list and an index. \n",
    "### The function should  return the value of the linked list at the specified index.\n",
    "\n",
    "### If there is no node at the given index, then return None."
   ]
  },
  {
   "cell_type": "code",
   "execution_count": 60,
   "id": "ab9cf4e3",
   "metadata": {},
   "outputs": [],
   "source": [
    "def get_node_value(head, index):\n",
    "    current = head\n",
    "    count = 0\n",
    "    while current is not None:\n",
    "        if count == index:\n",
    "            return current.val\n",
    "        current = current.next\n",
    "        count += 1\n",
    "    return None"
   ]
  },
  {
   "cell_type": "code",
   "execution_count": 62,
   "id": "9a6630c2",
   "metadata": {},
   "outputs": [
    {
     "data": {
      "text/plain": [
       "'c'"
      ]
     },
     "execution_count": 62,
     "metadata": {},
     "output_type": "execute_result"
    }
   ],
   "source": [
    "get_node_value(a, 2)"
   ]
  },
  {
   "cell_type": "code",
   "execution_count": 64,
   "id": "0ddafd87",
   "metadata": {},
   "outputs": [],
   "source": [
    "## Recursive\n",
    "def get_node_value2(head, index):\n",
    "    if head is None:\n",
    "        return None\n",
    "    if index == 0:\n",
    "        return head.val\n",
    "    return get_node_value(head.next, index - 1)"
   ]
  },
  {
   "cell_type": "code",
   "execution_count": 63,
   "id": "c1c4d5ac",
   "metadata": {},
   "outputs": [
    {
     "data": {
      "text/plain": [
       "'c'"
      ]
     },
     "execution_count": 63,
     "metadata": {},
     "output_type": "execute_result"
    }
   ],
   "source": [
    "get_node_value2(a, 2)"
   ]
  },
  {
   "cell_type": "markdown",
   "id": "b435a95a",
   "metadata": {},
   "source": [
    "### Write a function, reverse_list, that takes in the head of a linked list as an argument. \n",
    "### The function should reverse the order of the nodes in the linked list in-place and return the new head of the reversed linked list."
   ]
  },
  {
   "cell_type": "code",
   "execution_count": 65,
   "id": "9d1d7fd1",
   "metadata": {},
   "outputs": [],
   "source": [
    "a = Node(\"a\")\n",
    "b = Node(\"b\")\n",
    "c = Node(\"c\")\n",
    "d = Node(\"d\")\n",
    "e = Node(\"e\")\n",
    "f = Node(\"f\")\n",
    "\n",
    "a.next = b\n",
    "b.next = c\n",
    "c.next = d\n",
    "d.next = e\n",
    "e.next = f"
   ]
  },
  {
   "cell_type": "code",
   "execution_count": 86,
   "id": "e7a2392a",
   "metadata": {},
   "outputs": [],
   "source": [
    "def reverse_list(head):\n",
    "    current = head\n",
    "    prev = None\n",
    "    while current is not None:\n",
    "        nxt = current.next\n",
    "        current.next = prev\n",
    "        prev = current\n",
    "        current = nxt\n",
    "    return prev"
   ]
  },
  {
   "cell_type": "code",
   "execution_count": 101,
   "id": "e1b2d6b6",
   "metadata": {},
   "outputs": [
    {
     "data": {
      "text/plain": [
       "'a'"
      ]
     },
     "execution_count": 101,
     "metadata": {},
     "output_type": "execute_result"
    }
   ],
   "source": [
    "reverse_list(a).val"
   ]
  },
  {
   "cell_type": "code",
   "execution_count": 102,
   "id": "822c6dc8",
   "metadata": {},
   "outputs": [],
   "source": [
    "def reverse_list2(head, prev=None):\n",
    "    if head is None:\n",
    "        return prev\n",
    "    nxt = head.next\n",
    "    head.next = prev\n",
    "    return reverse_list2(nxt, head)"
   ]
  },
  {
   "cell_type": "code",
   "execution_count": 104,
   "id": "e6610402",
   "metadata": {},
   "outputs": [
    {
     "data": {
      "text/plain": [
       "'a'"
      ]
     },
     "execution_count": 104,
     "metadata": {},
     "output_type": "execute_result"
    }
   ],
   "source": [
    "reverse_list2(a).val"
   ]
  },
  {
   "cell_type": "markdown",
   "id": "36dd7967",
   "metadata": {},
   "source": [
    "### Write a function, zipper_lists, that takes in the head of two linked lists as arguments. The function should zipper the two lists together into single linked list by alternating nodes. If one of the linked lists is longer than the other, the resulting list should terminate with the remaining nodes. The function should return the head of the zippered linked list.\n",
    "\n",
    "### Do this in-place, by mutating the original Nodes."
   ]
  },
  {
   "cell_type": "code",
   "execution_count": 53,
   "id": "1903975a",
   "metadata": {},
   "outputs": [],
   "source": [
    "a = Node(\"a\")\n",
    "b = Node(\"b\")\n",
    "c = Node(\"c\")\n",
    "a.next = b\n",
    "b.next = c"
   ]
  },
  {
   "cell_type": "code",
   "execution_count": 54,
   "id": "84eb2084",
   "metadata": {},
   "outputs": [],
   "source": [
    "x = Node(\"x\")\n",
    "y = Node(\"y\")\n",
    "z = Node(\"z\")\n",
    "x.next = y\n",
    "y.next = z"
   ]
  },
  {
   "cell_type": "code",
   "execution_count": 55,
   "id": "241909e2",
   "metadata": {},
   "outputs": [],
   "source": [
    "def zipper_lists(head_1, head_2):\n",
    "    tail = head_1 # a\n",
    "    current1 = head_1.next # b\n",
    "    current2 = head_2 # x\n",
    "    count = 0 \n",
    "    print(head_1, '->')\n",
    "    while current1 is not None and current2 is not None: \n",
    "        if count % 2 == 0:\n",
    "            tail.next = current2 # \n",
    "            current2 = current2.next # x --> y --> z\n",
    "        else:\n",
    "            tail.next = current1 \n",
    "            current1 = current1.next\n",
    "        tail = tail.next # x\n",
    "        print(tail, '->')\n",
    "        count += 1\n",
    "    if current1 is not None:\n",
    "        tail.next = current1\n",
    "        print(current1, '->')\n",
    "    if current2 is not None:\n",
    "        tail.next = current2\n",
    "        print(current2, '->')\n",
    "    return head_1"
   ]
  },
  {
   "cell_type": "code",
   "execution_count": 56,
   "id": "aaa06808",
   "metadata": {},
   "outputs": [
    {
     "name": "stdout",
     "output_type": "stream",
     "text": [
      "Node a ->\n",
      "Node x ->\n",
      "Node b ->\n",
      "Node y ->\n",
      "Node c ->\n",
      "Node z ->\n"
     ]
    },
    {
     "data": {
      "text/plain": [
       "Node a"
      ]
     },
     "execution_count": 56,
     "metadata": {},
     "output_type": "execute_result"
    }
   ],
   "source": [
    "zipper_lists(a, x)"
   ]
  },
  {
   "cell_type": "code",
   "execution_count": 21,
   "id": "3588971e",
   "metadata": {},
   "outputs": [],
   "source": [
    "def zipper_lists2(head_1, head_2):\n",
    "    if head_1 is None and head_2 is None:\n",
    "        return None\n",
    "    if head_1 is None:\n",
    "        return head_2\n",
    "    if head_2 is None:\n",
    "        return head_1\n",
    "    next1 = head_1.next\n",
    "    next2 = head_2.next\n",
    "    head_1.next = head_2\n",
    "    head_2.next = zipper_lists2(next1, next2)\n",
    "    return head_1"
   ]
  },
  {
   "cell_type": "code",
   "execution_count": 22,
   "id": "0bb11ff4",
   "metadata": {},
   "outputs": [
    {
     "data": {
      "text/plain": [
       "<__main__.Node at 0x1eb83ee9ac0>"
      ]
     },
     "execution_count": 22,
     "metadata": {},
     "output_type": "execute_result"
    }
   ],
   "source": [
    "zipper_lists2(a, x)"
   ]
  },
  {
   "cell_type": "code",
   "execution_count": 57,
   "id": "639ffecb",
   "metadata": {},
   "outputs": [
    {
     "name": "stdout",
     "output_type": "stream",
     "text": [
      "None\n"
     ]
    }
   ],
   "source": [
    "print(None)"
   ]
  },
  {
   "cell_type": "code",
   "execution_count": 58,
   "id": "a0b50e92",
   "metadata": {},
   "outputs": [],
   "source": [
    "None"
   ]
  },
  {
   "cell_type": "code",
   "execution_count": null,
   "id": "07182e9f",
   "metadata": {},
   "outputs": [],
   "source": []
  }
 ],
 "metadata": {
  "kernelspec": {
   "display_name": "Python 3 (ipykernel)",
   "language": "python",
   "name": "python3"
  },
  "language_info": {
   "codemirror_mode": {
    "name": "ipython",
    "version": 3
   },
   "file_extension": ".py",
   "mimetype": "text/x-python",
   "name": "python",
   "nbconvert_exporter": "python",
   "pygments_lexer": "ipython3",
   "version": "3.9.13"
  }
 },
 "nbformat": 4,
 "nbformat_minor": 5
}
