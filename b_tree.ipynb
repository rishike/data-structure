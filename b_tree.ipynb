{
 "cells": [
  {
   "cell_type": "markdown",
   "metadata": {},
   "source": [
    "#### Creating a Binary Tree"
   ]
  },
  {
   "cell_type": "code",
   "execution_count": 153,
   "metadata": {},
   "outputs": [],
   "source": [
    "class Node:\n",
    "    def __init__(self, data):\n",
    "        self.data = data\n",
    "        self.left = None\n",
    "        self.right = None\n",
    "    \n",
    "    def add(self, data):\n",
    "        if self.data == data:\n",
    "            return\n",
    "        \n",
    "        # If given data or value is smaller than root value\n",
    "        # Then traverse Left Link\n",
    "        if data < self.data:\n",
    "            # left Node is empty then make a BinarySubTree\n",
    "            if self.left is None:\n",
    "                self.left = Node(data)\n",
    "                return\n",
    "            \n",
    "            else:\n",
    "                # If left Node is not empty then add below to it\n",
    "                self.left.add(data)\n",
    "                self.left = self.left.fixImbalanceIfExists()\n",
    "                \n",
    "        # If given data or value is greater than root value\n",
    "        # Then Traverse Right link\n",
    "        if data > self.data:\n",
    "            if self.right is None:\n",
    "                self.right = Node(data)\n",
    "                return\n",
    "            else:\n",
    "                # If Right node is empty then make a BinarySubTree\n",
    "                self.right.add(data)\n",
    "                self.right = self.right.fixImbalanceIfExists()\n",
    "            \n",
    "        \n",
    "        if self.left and self.data > data:\n",
    "            return self.left.add(data)\n",
    "        if self.right and self.data < data:\n",
    "            return self.right.add(data)\n",
    "    \n",
    "    def findMin(self):\n",
    "        if self.left:\n",
    "            return self.left.findMin()\n",
    "        return self.data\n",
    "    \n",
    "    def delete(self, target):\n",
    "        if self.data == target:\n",
    "            if self.left and self.right:\n",
    "                minValue = self.right.findMin()\n",
    "                self.data = minValue\n",
    "                self.right = self.right.delete(minValue)\n",
    "                return self\n",
    "            else:\n",
    "                return self.left or self.right\n",
    "        \n",
    "        if self.right and target > self.data:\n",
    "            self.right = self.right.delete(target)\n",
    "        \n",
    "        if self.left and target < self.data:\n",
    "            self.left = self.left.delete(target)\n",
    "        \n",
    "        return self.fixImbalanceIfExists()\n",
    "    \n",
    "    def isBalanced(self):\n",
    "        leftHeight = self.left.height()+1 if self.left else 0\n",
    "        rightHeight = self.right.height()+1 if self.right else 0\n",
    "        return abs(leftHeight - rightHeight) < 2\n",
    "    \n",
    "    def toStr(self):\n",
    "        if not self.isBalanced():\n",
    "            return str(self.data)+'*'\n",
    "        return str(self.data)\n",
    "    \n",
    "    # Remember small values always goes to left\n",
    "    # large values always goes to right\n",
    "    def search(self, target):\n",
    "        if self.data == target:\n",
    "            print(\"found it\")\n",
    "            return self\n",
    "        if self.left and self.data > target:\n",
    "            return self.left.search(target)\n",
    "        if self.right and self.data < target:\n",
    "            return self.right.search(target)\n",
    "        \n",
    "        print(\"Value is not in trees\")\n",
    "    \n",
    "    # Start with root or parent node first\n",
    "    # Traverse all left node first then right\n",
    "    def traversePreorder(self):\n",
    "        print(self.data)\n",
    "        if self.left:\n",
    "            self.left.traversePreorder()\n",
    "        \n",
    "        if self.right:\n",
    "            self.right.traversePreorder()\n",
    "        \n",
    "    # Start with smallest node\n",
    "    # Start with left leaf node\n",
    "    def traverseInorder(self):\n",
    "        if self.left:\n",
    "            self.left.traverseInorder()\n",
    "        print(self.data)\n",
    "        if self.right:\n",
    "            self.right.traverseInorder()\n",
    "    \n",
    "    # Start with left most node\n",
    "    # visit left node to right\n",
    "    # vist root node in the end\n",
    "    def traversePostorder(self):\n",
    "        if self.left:\n",
    "            self.left.traversePostorder()\n",
    "        if self.right:\n",
    "            self.right.traversePostorder()\n",
    "        print(self.data)\n",
    "    \n",
    "    ## Remember height is important becoz it determines the maximum runtime for the search of tree.\n",
    "    ## if leaf node is reached function return kicks his height back up to the stack and \n",
    "    ## node above it return deepest height on either side.\n",
    "    def height(self, h =0):\n",
    "        leftHeight = self.left.height(h+1) if self.left else h\n",
    "        rightHeight = self.right.height(h+1) if self.right else h\n",
    "        return max(leftHeight, rightHeight)\n",
    "    \n",
    "    # Get the Nodes at particular Depth\n",
    "    def getNodesAtDepth(self, depth, nodes=[]):\n",
    "        if depth == 0:\n",
    "            nodes.append(self)\n",
    "            return nodes\n",
    "        if self.left:\n",
    "            self.left.getNodesAtDepth(depth-1, nodes)\n",
    "        else:\n",
    "            nodes.extend([None]*2**(depth-1))\n",
    "        if self.right:\n",
    "            self.right.getNodesAtDepth(depth-1, nodes)\n",
    "        else:\n",
    "            nodes.extend([None]*2**(depth-1))\n",
    "        return nodes\n",
    "    \n",
    "    # Show the Right Node and left node difference\n",
    "    def getLeftRightHeightDifference(self):\n",
    "        leftHeight = self.left.height()+1 if self.left else 0\n",
    "        rightHeight = self.right.height()+1 if self.right else 0\n",
    "        return leftHeight - rightHeight\n",
    "    \n",
    "    # Fixes itself if found the imbalance\n",
    "    def fixImbalanceIfExists(self):\n",
    "        if self.getLeftRightHeightDifference() > 1:\n",
    "            # Left imbalance\n",
    "            if self.left.getLeftRightHeightDifference() > 0:\n",
    "                # left left imbalance\n",
    "                return rotateRight(self)\n",
    "            else:\n",
    "                # left right imbalance\n",
    "                self.left = rotateLeft(self.left)\n",
    "                return rotateRight(self)\n",
    "            \n",
    "        elif self.getLeftRightHeightDifference() < -1:\n",
    "            # right imbalance\n",
    "            if self.unbalancedLeftLeftright.getLeftRightHeightDifference() < 0:\n",
    "                # right right\n",
    "                return rotateLeft(self)\n",
    "            else:\n",
    "                # right left\n",
    "                self.right = rotateRight(self.right)\n",
    "                return rotateLeft(self)\n",
    "        return self\n",
    "    \n",
    "    # Recursively call fixImbalanceIfExists to re-balance itself\n",
    "    def rebalance(self):\n",
    "        if self.left:\n",
    "            self.left.rebalance()\n",
    "            self.left = self.left.fixImbalanceIfExists()\n",
    "        if self.right:\n",
    "            self.right.rebalance()\n",
    "            self.right = self.right.fixImbalanceIfExists()\n",
    "    \n",
    "        "
   ]
  },
  {
   "cell_type": "code",
   "execution_count": 154,
   "metadata": {},
   "outputs": [],
   "source": [
    "class Tree:\n",
    "    def __init__(self, root, name=''):\n",
    "        self.root = root\n",
    "        self.name = name\n",
    "    \n",
    "    def search(self, target):\n",
    "        return self.root.search(target)\n",
    "    \n",
    "    def traversePreorder(self):\n",
    "        self.root.traversePreorder()\n",
    "    \n",
    "    def traverseInorder(self):\n",
    "        self.root.traverseInorder()\n",
    "    \n",
    "    def traversePostorder(self):\n",
    "        self.root.traversePostorder()\n",
    "    \n",
    "    def height(self):\n",
    "        return self.root.height()\n",
    "    \n",
    "    def add(self, data):\n",
    "        self.root.add(data)\n",
    "        self.root = self.root.fixImbalanceIfExists()\n",
    "    \n",
    "    def delete(self, target):\n",
    "        self.root = self.root.delete(target)\n",
    "    \n",
    "    def rebalance(self):\n",
    "        self.root.rebalance()\n",
    "        self.root = self.root.fixImbalanceIfExists()\n",
    "    \n",
    "    def getNodesAtDepth(self, depth):\n",
    "        return self.root.getNodesAtDepth(depth)\n",
    "    \n",
    "    def _nodeToChar(self, n, spacing):\n",
    "        if n is None:\n",
    "            return '_'+(' '*spacing)\n",
    "        spacing = spacing-len(n.toStr())+1\n",
    "        return n.toStr()+(' '*spacing)\n",
    "    \n",
    "    def print(self, label=''):\n",
    "        print(self.name+' '+label)\n",
    "        height = self.root.height()\n",
    "        spacing = 3\n",
    "        width = int((2**height-1) * (spacing+1) + 1)\n",
    "        # Root offset\n",
    "        offset = int((width-1)/2)\n",
    "        for depth in range(0, height+1):\n",
    "            if depth > 0:\n",
    "                # print directional lines\n",
    "                print(' '*(offset+1) + (' '*(spacing+2)).join(['/'+ (' '*(spacing-2))+'\\\\']*(2**(depth-1))))\n",
    "            row = self.root.getNodesAtDepth(depth, [])\n",
    "            print((' '*offset)+''.join([self._nodeToChar(n, spacing) for n in row]))\n",
    "            spacing = offset+1\n",
    "            offset = int(offset/2)  -1\n",
    "        print('')"
   ]
  },
  {
   "cell_type": "code",
   "execution_count": 155,
   "metadata": {},
   "outputs": [],
   "source": [
    "### Rotate Left\n",
    "def rotateLeft(root):\n",
    "    pivot = root.right\n",
    "    reattachNode = pivot.left\n",
    "    root.right = reattachNode\n",
    "    pivot.left = root\n",
    "    return pivot\n",
    "    "
   ]
  },
  {
   "cell_type": "code",
   "execution_count": 156,
   "metadata": {},
   "outputs": [],
   "source": [
    "#### Rotate Right\n",
    "def rotateRight(root):\n",
    "    pivot = root.left\n",
    "    reattachNode = pivot.right\n",
    "    root.left = reattachNode\n",
    "    pivot.right = root\n",
    "    return pivot"
   ]
  },
  {
   "cell_type": "code",
   "execution_count": 157,
   "metadata": {},
   "outputs": [
    {
     "name": "stdout",
     "output_type": "stream",
     "text": [
      " \n",
      "              35  \n",
      "       /             \\\n",
      "      5               50              \n",
      "   /     \\         /     \\\n",
      "  2       25      _       75      \n",
      " / \\     / \\     / \\     / \\\n",
      "1   _   10  30  _   _   _   _   \n",
      "\n"
     ]
    }
   ],
   "source": [
    "# Adding a data by add method\n",
    "tree = Tree(Node(50))\n",
    "tree.add(25)\n",
    "tree.add(75)\n",
    "tree.add(10)\n",
    "tree.add(35)\n",
    "tree.add(30)\n",
    "tree.add(5)\n",
    "tree.add(2)\n",
    "tree.add(1)\n",
    "tree.print()"
   ]
  },
  {
   "cell_type": "code",
   "execution_count": 158,
   "metadata": {},
   "outputs": [
    {
     "name": "stdout",
     "output_type": "stream",
     "text": [
      " \n",
      "              35  \n",
      "       /             \\\n",
      "      5               50              \n",
      "   /     \\         /     \\\n",
      "  2       30      _       75      \n",
      " / \\     / \\     / \\     / \\\n",
      "1   _   10  _   _   _   _   _   \n",
      "\n"
     ]
    }
   ],
   "source": [
    "# Deleting a children with value 30\n",
    "tree.delete(25)\n",
    "tree.print()"
   ]
  },
  {
   "cell_type": "code",
   "execution_count": 159,
   "metadata": {},
   "outputs": [
    {
     "name": "stdout",
     "output_type": "stream",
     "text": [
      "35\n",
      "5\n",
      "2\n",
      "1\n",
      "30\n",
      "10\n",
      "50\n",
      "75\n"
     ]
    }
   ],
   "source": [
    "# Traverse Pre-Order\n",
    "tree.traversePreorder()"
   ]
  },
  {
   "cell_type": "code",
   "execution_count": 160,
   "metadata": {},
   "outputs": [
    {
     "name": "stdout",
     "output_type": "stream",
     "text": [
      "1\n",
      "2\n",
      "5\n",
      "10\n",
      "30\n",
      "35\n",
      "50\n",
      "75\n"
     ]
    }
   ],
   "source": [
    "# Traverse In-Order\n",
    "tree.traverseInorder()"
   ]
  },
  {
   "cell_type": "code",
   "execution_count": 161,
   "metadata": {},
   "outputs": [
    {
     "name": "stdout",
     "output_type": "stream",
     "text": [
      "1\n",
      "2\n",
      "10\n",
      "30\n",
      "5\n",
      "75\n",
      "50\n",
      "35\n"
     ]
    }
   ],
   "source": [
    "# Traverse Post-Order\n",
    "tree.traversePostorder()"
   ]
  },
  {
   "cell_type": "markdown",
   "metadata": {},
   "source": [
    "#### Getting The Height of a Tree"
   ]
  },
  {
   "cell_type": "code",
   "execution_count": 162,
   "metadata": {},
   "outputs": [
    {
     "data": {
      "text/plain": [
       "3"
      ]
     },
     "execution_count": 162,
     "metadata": {},
     "output_type": "execute_result"
    }
   ],
   "source": [
    "tree.root.height()"
   ]
  },
  {
   "cell_type": "markdown",
   "metadata": {},
   "source": [
    "#### Getting All Nodes At Particular Depth"
   ]
  },
  {
   "cell_type": "code",
   "execution_count": 163,
   "metadata": {},
   "outputs": [
    {
     "data": {
      "text/plain": [
       "[1, 10]"
      ]
     },
     "execution_count": 163,
     "metadata": {},
     "output_type": "execute_result"
    }
   ],
   "source": [
    "nodes = []\n",
    "# tree.root.getNodesAtDepth(2, nodes)\n",
    "[ _.data  for _ in tree.root.getNodesAtDepth(3, nodes) if _ is not None ]"
   ]
  },
  {
   "cell_type": "code",
   "execution_count": 164,
   "metadata": {},
   "outputs": [
    {
     "name": "stdout",
     "output_type": "stream",
     "text": [
      "unbalanced left left \n",
      "              30* \n",
      "       /             \\\n",
      "      20              _               \n",
      "   /     \\         /     \\\n",
      "  10      21      _       _       \n",
      " / \\     / \\     / \\     / \\\n",
      "9   11  _   _   _   _   _   _   \n",
      "\n"
     ]
    }
   ],
   "source": [
    "UnbalancedLeftLeft = Tree(Node(30), 'unbalanced left left')\n",
    "UnbalancedLeftLeft.root.left = Node(20)\n",
    "UnbalancedLeftLeft.root.left.right = Node(21)\n",
    "UnbalancedLeftLeft.root.left.left = Node(10)\n",
    "UnbalancedLeftLeft.root.left.left.left = Node(9)\n",
    "UnbalancedLeftLeft.root.left.left.right = Node(11)\n",
    "UnbalancedLeftLeft.print()"
   ]
  },
  {
   "cell_type": "code",
   "execution_count": 166,
   "metadata": {},
   "outputs": [],
   "source": [
    "# UnbalancedLeftLeft.root\n",
    "UnbalancedLeftLeft.root = rotateRight(UnbalancedLeftLeft.root)"
   ]
  },
  {
   "cell_type": "code",
   "execution_count": 167,
   "metadata": {},
   "outputs": [
    {
     "name": "stdout",
     "output_type": "stream",
     "text": [
      "unbalanced left left \n",
      "      20  \n",
      "   /     \\\n",
      "  10      30      \n",
      " / \\     / \\\n",
      "9   11  21  _   \n",
      "\n"
     ]
    }
   ],
   "source": [
    "UnbalancedLeftLeft.print()"
   ]
  },
  {
   "cell_type": "code",
   "execution_count": 181,
   "metadata": {},
   "outputs": [
    {
     "name": "stdout",
     "output_type": "stream",
     "text": [
      "Unbalanced right right \n",
      "              10* \n",
      "       /             \\\n",
      "      _               20              \n",
      "   /     \\         /     \\\n",
      "  _       _       19      30      \n",
      " / \\     / \\     / \\     / \\\n",
      "_   _   _   _   _   _   29  31  \n",
      "\n"
     ]
    }
   ],
   "source": [
    "unbalanced_right_right = Tree(Node(10), 'Unbalanced right right')\n",
    "unbalanced_right_right.root.right = Node(20)\n",
    "unbalanced_right_right.root.right.left = Node(19)\n",
    "unbalanced_right_right.root.right.right = Node(30)\n",
    "unbalanced_right_right.root.right.right.left = Node(29)\n",
    "unbalanced_right_right.root.right.right.right = Node(31)\n",
    "unbalanced_right_right.print()"
   ]
  },
  {
   "cell_type": "code",
   "execution_count": 182,
   "metadata": {},
   "outputs": [
    {
     "name": "stdout",
     "output_type": "stream",
     "text": [
      "Unbalanced right right \n",
      "      20  \n",
      "   /     \\\n",
      "  10      30      \n",
      " / \\     / \\\n",
      "_   19  29  31  \n",
      "\n"
     ]
    }
   ],
   "source": [
    "unbalanced_right_right.root = rotateLeft(unbalanced_right_right.root)\n",
    "unbalanced_right_right.print()"
   ]
  },
  {
   "cell_type": "code",
   "execution_count": 183,
   "metadata": {},
   "outputs": [
    {
     "name": "stdout",
     "output_type": "stream",
     "text": [
      "Unbalanced left right \n",
      "              30* \n",
      "       /             \\\n",
      "      10              31              \n",
      "   /     \\         /     \\\n",
      "  9       20      _       _       \n",
      " / \\     / \\     / \\     / \\\n",
      "_   _   19  21  _   _   _   _   \n",
      "\n"
     ]
    }
   ],
   "source": [
    "unbalanced_left_right = Tree(Node(30), 'Unbalanced left right')\n",
    "unbalanced_left_right.root.right = Node(31)\n",
    "unbalanced_left_right.root.left = Node(10)\n",
    "unbalanced_left_right.root.left.right = Node(20)\n",
    "unbalanced_left_right.root.left.left = Node(9)\n",
    "unbalanced_left_right.root.left.right.left = Node(19)\n",
    "unbalanced_left_right.root.left.right.right = Node(21)\n",
    "unbalanced_left_right.print()"
   ]
  },
  {
   "cell_type": "code",
   "execution_count": 184,
   "metadata": {},
   "outputs": [
    {
     "name": "stdout",
     "output_type": "stream",
     "text": [
      "Unbalanced left right \n",
      "      20  \n",
      "   /     \\\n",
      "  10      30      \n",
      " / \\     / \\\n",
      "9   19  21  31  \n",
      "\n"
     ]
    }
   ],
   "source": [
    "unbalanced_left_right.root.left = rotateLeft(unbalanced_left_right.root.left)\n",
    "unbalanced_left_right.root = rotateRight(unbalanced_left_right.root)\n",
    "unbalanced_left_right.print()"
   ]
  },
  {
   "cell_type": "code",
   "execution_count": 185,
   "metadata": {},
   "outputs": [
    {
     "name": "stdout",
     "output_type": "stream",
     "text": [
      "UNBALANCED RIGHT LEFT \n",
      "              30* \n",
      "       /             \\\n",
      "      31              10              \n",
      "   /     \\         /     \\\n",
      "  _       _       20      9       \n",
      " / \\     / \\     / \\     / \\\n",
      "_   _   _   _   21  19  _   _   \n",
      "\n"
     ]
    }
   ],
   "source": [
    "unbalance_right_left = Tree(Node(30), 'UNBALANCED RIGHT LEFT')\n",
    "unbalance_right_left.root.left = Node(31)\n",
    "unbalance_right_left.root.right = Node(10)\n",
    "unbalance_right_left.root.right.left = Node(20)\n",
    "unbalance_right_left.root.right.right = Node(9)\n",
    "unbalance_right_left.root.right.left.right = Node(19)\n",
    "unbalance_right_left.root.right.left.left = Node(21)\n",
    "unbalance_right_left.print()"
   ]
  },
  {
   "cell_type": "code",
   "execution_count": 186,
   "metadata": {},
   "outputs": [
    {
     "name": "stdout",
     "output_type": "stream",
     "text": [
      "UNBALANCED RIGHT LEFT \n",
      "      20  \n",
      "   /     \\\n",
      "  30      10      \n",
      " / \\     / \\\n",
      "31  21  19  9   \n",
      "\n"
     ]
    }
   ],
   "source": [
    "unbalance_right_left.root.right = rotateRight(unbalance_right_left.root.right)\n",
    "unbalance_right_left.root = rotateLeft(unbalance_right_left.root)\n",
    "unbalance_right_left.print()"
   ]
  },
  {
   "cell_type": "code",
   "execution_count": 187,
   "metadata": {},
   "outputs": [
    {
     "name": "stdout",
     "output_type": "stream",
     "text": [
      " \n",
      "              50* \n",
      "       /             \\\n",
      "      25              75              \n",
      "   /     \\         /     \\\n",
      "  10      35      _       _       \n",
      " / \\     / \\     / \\     / \\\n",
      "5   13  30  _   _   _   _   _   \n",
      "\n",
      " \n",
      "              35  \n",
      "       /             \\\n",
      "      25              50              \n",
      "   /     \\         /     \\\n",
      "  10      30      _       75      \n",
      " / \\     / \\     / \\     / \\\n",
      "5   13  _   _   _   _   _   _   \n",
      "\n"
     ]
    }
   ],
   "source": [
    "# Fix the imbalance if exists\n",
    "tree = Tree(Node(50))\n",
    "tree.root.left = Node(25)\n",
    "tree.root.right = Node(75)\n",
    "tree.root.left.left = Node(10)\n",
    "tree.root.left.right = Node(35)\n",
    "tree.root.left.right.left = Node(30)\n",
    "tree.root.left.left.left = Node(5)\n",
    "tree.root.left.left.right = Node(13)\n",
    "tree.print()\n",
    "tree.rebalance()\n",
    "tree.print()"
   ]
  }
 ],
 "metadata": {
  "kernelspec": {
   "display_name": "Python 3",
   "language": "python",
   "name": "python3"
  },
  "language_info": {
   "codemirror_mode": {
    "name": "ipython",
    "version": 3
   },
   "file_extension": ".py",
   "mimetype": "text/x-python",
   "name": "python",
   "nbconvert_exporter": "python",
   "pygments_lexer": "ipython3",
   "version": "3.8.3"
  }
 },
 "nbformat": 4,
 "nbformat_minor": 4
}
