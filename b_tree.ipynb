{
 "cells": [
  {
   "cell_type": "markdown",
   "metadata": {},
   "source": [
    "#### Creating a Binary Tree"
   ]
  },
  {
   "cell_type": "code",
   "execution_count": 1,
   "metadata": {},
   "outputs": [],
   "source": [
    "### Class of Binary of Tree\n",
    "class BinaryTree:\n",
    "    def __init__(self, root, name='Tree'):\n",
    "        self.data = root\n",
    "        self.left = None\n",
    "        self.right = None\n",
    "        self.name = name\n",
    "    \n",
    "    def add(self, data):\n",
    "        if self.data == data:\n",
    "            return\n",
    "        \n",
    "        # If given data or value is smaller than root value\n",
    "        # Then traverse Left Link\n",
    "        if data < self.data:\n",
    "            # left Node is empty then make a BinarySubTree\n",
    "            if self.left is None:\n",
    "                self.left = BinaryTree(data)\n",
    "            else:\n",
    "                # If left Node is not empty then add below to it\n",
    "                self.left.add(data)\n",
    "        \n",
    "        # If given data or value is greater than root value\n",
    "        # Then Traverse Right link\n",
    "        if data > self.data:\n",
    "            # If Right node is empty then make a BinarySubTree\n",
    "            if self.right is None:\n",
    "                self.right = BinaryTree(data)\n",
    "                return\n",
    "            else:\n",
    "                # if right node is not empty then add below to it\n",
    "                self.right.add(data)\n",
    "        \n",
    "    def delete(self,data):\n",
    "        ...\n",
    "    \n",
    "    # Remember small values always goes to left\n",
    "    # large values always goes to right\n",
    "    def search(self, target):\n",
    "        if self.data == target:\n",
    "            print(\"Found it\")\n",
    "            return \n",
    "        \n",
    "        if self.left and self.data > target:\n",
    "            return self.left.search(target)\n",
    "        \n",
    "        if self.right and self.data < target:\n",
    "            return self.right.search(target)\n",
    "        \n",
    "        print(\"Value not in tree.\")\n",
    "        return None\n",
    "\n",
    "    ## Remember height is important becoz it determines the maximum runtime for the search of tree.\n",
    "    ## if leaf node is reached function return kicks his height back up to the stack and \n",
    "    ## node above it return deepest height on either side.\n",
    "    def getHeight(self, h=0):\n",
    "        ## When we recurse down we add\n",
    "        ## Recurse Down to left node\n",
    "        if self.left:\n",
    "            leftHeight = self.left.getHeight(h+1)\n",
    "        else:\n",
    "            leftHeight = h\n",
    "             \n",
    "        ## Recurse Down to right node\n",
    "        if self.right:\n",
    "            rightHeight = self.right.getHeight(h+1)\n",
    "        else:\n",
    "            rightHeight = h\n",
    "        \n",
    "        return max(leftHeight, rightHeight)\n",
    "    \n",
    "    def getNodesAtDepth(self, depth, nodes=[]):\n",
    "        if depth == 0:\n",
    "            nodes.append(self.data)\n",
    "            return nodes\n",
    "        if self.left:\n",
    "            self.left.getNodesAtDepth(depth-1, nodes)\n",
    "#         else:\n",
    "#             nodes.extend([None]*2**(depth-1))\n",
    "        if self.right:\n",
    "            self.right.getNodesAtDepth(depth-1, nodes)\n",
    "#         else:\n",
    "#             nodes.extend([None]*2**(depth-1))\n",
    "        return nodes\n",
    "    \n",
    "    ##  Check binary Tree is Balanced or not\n",
    "    ## Detecting unbalance tree\n",
    "    ## tree is imbalanced if any node one side of tree has maximum depth of\n",
    "    ## two or greater than other side\n",
    "    def isBalanced(self):\n",
    "        if self.left:\n",
    "            leftHeight = self.left.getHeight()+1\n",
    "        else:\n",
    "            leftHeight = 0\n",
    "        \n",
    "        if self.right:\n",
    "            rightHeight = self.right.getHeight()+1\n",
    "        else:\n",
    "            rightHeight = 0\n",
    "        \n",
    "        return abs(leftHeight - rightHeight) < 2\n",
    "    \n",
    "#     def addAsterikToImbalanceNode(self):\n",
    "#         if not self.isBalanced():\n",
    "#             return str(self.data)+'*'\n",
    "#         return str(self.data)\n"
   ]
  },
  {
   "cell_type": "markdown",
   "metadata": {},
   "source": [
    "### Print Binary Tree Function"
   ]
  },
  {
   "cell_type": "code",
   "execution_count": 2,
   "metadata": {},
   "outputs": [],
   "source": [
    "def nodeToChar(n, spacing):\n",
    "        if n is None:\n",
    "            return '_'+(' '*spacing)\n",
    "        spacing = spacing-len(str(n))+1\n",
    "#         spacing = spacing-len(n.addAsterikToImbalanceNode())+1\n",
    "        return str(n)+(' '*spacing)\n",
    "#         return n.addAsterikToImbalanceNode()+(' '*spacing)\n",
    "\n",
    "def printBT(BT, label=''):\n",
    "        print(BT.name+' '+label)\n",
    "        height = BT.getHeight()\n",
    "        spacing = 3\n",
    "        width = int((2**height-1) * (spacing+1) + 1)\n",
    "        # Root offset\n",
    "        offset = int((width-1)/2)\n",
    "        for depth in range(0, height+1):\n",
    "            if depth > 0:\n",
    "                # print directional lines\n",
    "                print(' '*(offset+1) + (' '*(spacing+2)).join(['/'+ (' '*(spacing-2))+'\\\\']*(2**(depth-1))))\n",
    "            row = BT.getNodesAtDepth(depth, [])\n",
    "            print((' '*offset)+''.join([nodeToChar(n, spacing) for n in row]))\n",
    "            spacing = offset+1\n",
    "            offset = int(offset/2)  -1\n",
    "        print('')"
   ]
  },
  {
   "cell_type": "code",
   "execution_count": 7,
   "metadata": {},
   "outputs": [],
   "source": [
    "## Rotate right\n",
    "\n",
    "def RotateRight(root):\n",
    "    pivot = root.right\n",
    "    reattachNode = pivot.left\n",
    "    pivot.right = reattachNode\n",
    "    pivot.left = root\n",
    "    return pivot"
   ]
  },
  {
   "cell_type": "code",
   "execution_count": 4,
   "metadata": {},
   "outputs": [],
   "source": [
    "## Rotate Left\n",
    "def RotateLeft(root):\n",
    "    pivot = root.right\n",
    "    reattachNode = pivot.left\n",
    "    root.right = reattachNode\n",
    "    pivot.left = root\n",
    "    return pivot"
   ]
  },
  {
   "cell_type": "code",
   "execution_count": 5,
   "metadata": {},
   "outputs": [
    {
     "name": "stdout",
     "output_type": "stream",
     "text": [
      "unbalanced left left \n",
      "              30  \n",
      "       /             \\\n",
      "      20              \n",
      "   /     \\         /     \\\n",
      "  10      21      \n",
      " / \\     / \\     / \\     / \\\n",
      "9   11  \n",
      "\n"
     ]
    }
   ],
   "source": [
    "### Unbalance LEFT LEFT\n",
    "\n",
    "unbalancedLeftLeft = BinaryTree(30, name='unbalanced left left')\n",
    "unbalancedLeftLeft.add(20)\n",
    "unbalancedLeftLeft.add(21)\n",
    "unbalancedLeftLeft.add(10)\n",
    "unbalancedLeftLeft.add(9)\n",
    "unbalancedLeftLeft.add(11)\n",
    "printBT(unbalancedLeftLeft)"
   ]
  },
  {
   "cell_type": "code",
   "execution_count": 8,
   "metadata": {},
   "outputs": [
    {
     "ename": "AttributeError",
     "evalue": "'NoneType' object has no attribute 'left'",
     "output_type": "error",
     "traceback": [
      "\u001b[1;31m---------------------------------------------------------------------------\u001b[0m",
      "\u001b[1;31mAttributeError\u001b[0m                            Traceback (most recent call last)",
      "\u001b[1;32m<ipython-input-8-9c86bb052126>\u001b[0m in \u001b[0;36m<module>\u001b[1;34m\u001b[0m\n\u001b[1;32m----> 1\u001b[1;33m \u001b[0mbt\u001b[0m \u001b[1;33m=\u001b[0m \u001b[0mRotateRight\u001b[0m\u001b[1;33m(\u001b[0m\u001b[0munbalancedLeftLeft\u001b[0m\u001b[1;33m)\u001b[0m\u001b[1;33m\u001b[0m\u001b[1;33m\u001b[0m\u001b[0m\n\u001b[0m",
      "\u001b[1;32m<ipython-input-7-f5cd72736262>\u001b[0m in \u001b[0;36mRotateRight\u001b[1;34m(root)\u001b[0m\n\u001b[0;32m      3\u001b[0m \u001b[1;32mdef\u001b[0m \u001b[0mRotateRight\u001b[0m\u001b[1;33m(\u001b[0m\u001b[0mroot\u001b[0m\u001b[1;33m)\u001b[0m\u001b[1;33m:\u001b[0m\u001b[1;33m\u001b[0m\u001b[1;33m\u001b[0m\u001b[0m\n\u001b[0;32m      4\u001b[0m     \u001b[0mpivot\u001b[0m \u001b[1;33m=\u001b[0m \u001b[0mroot\u001b[0m\u001b[1;33m.\u001b[0m\u001b[0mright\u001b[0m\u001b[1;33m\u001b[0m\u001b[1;33m\u001b[0m\u001b[0m\n\u001b[1;32m----> 5\u001b[1;33m     \u001b[0mreattachNode\u001b[0m \u001b[1;33m=\u001b[0m \u001b[0mpivot\u001b[0m\u001b[1;33m.\u001b[0m\u001b[0mleft\u001b[0m\u001b[1;33m\u001b[0m\u001b[1;33m\u001b[0m\u001b[0m\n\u001b[0m\u001b[0;32m      6\u001b[0m     \u001b[0mpivot\u001b[0m\u001b[1;33m.\u001b[0m\u001b[0mright\u001b[0m \u001b[1;33m=\u001b[0m \u001b[0mreattachNode\u001b[0m\u001b[1;33m\u001b[0m\u001b[1;33m\u001b[0m\u001b[0m\n\u001b[0;32m      7\u001b[0m     \u001b[0mpivot\u001b[0m\u001b[1;33m.\u001b[0m\u001b[0mleft\u001b[0m \u001b[1;33m=\u001b[0m \u001b[0mroot\u001b[0m\u001b[1;33m\u001b[0m\u001b[1;33m\u001b[0m\u001b[0m\n",
      "\u001b[1;31mAttributeError\u001b[0m: 'NoneType' object has no attribute 'left'"
     ]
    }
   ],
   "source": [
    "bt = RotateRight(unbalancedLeftLeft)"
   ]
  },
  {
   "cell_type": "code",
   "execution_count": null,
   "metadata": {},
   "outputs": [],
   "source": [
    "printBT(bt)"
   ]
  },
  {
   "cell_type": "code",
   "execution_count": 223,
   "metadata": {},
   "outputs": [],
   "source": [
    "# Making Object Of BinarySearchTree\n",
    "# Adding the data\n",
    "BST = BinaryTree(50, 'Binary Tree')\n",
    "BST.add(35)\n",
    "BST.add(40)\n",
    "BST.add(30)\n",
    "BST.add(70)\n",
    "BST.add(80)\n",
    "BST.add(60)"
   ]
  },
  {
   "cell_type": "code",
   "execution_count": 177,
   "metadata": {},
   "outputs": [
    {
     "data": {
      "text/plain": [
       "2"
      ]
     },
     "execution_count": 177,
     "metadata": {},
     "output_type": "execute_result"
    }
   ],
   "source": [
    "# Getting the BST Tree Height\n",
    "BST.getHeight()"
   ]
  },
  {
   "cell_type": "code",
   "execution_count": 170,
   "metadata": {},
   "outputs": [
    {
     "data": {
      "text/plain": [
       "1"
      ]
     },
     "execution_count": 170,
     "metadata": {},
     "output_type": "execute_result"
    }
   ],
   "source": [
    "# Get left link height\n",
    "BST.left.getHeight()"
   ]
  },
  {
   "cell_type": "code",
   "execution_count": 144,
   "metadata": {},
   "outputs": [
    {
     "data": {
      "text/plain": [
       "[30, 40, 60, 80]"
      ]
     },
     "execution_count": 144,
     "metadata": {},
     "output_type": "execute_result"
    }
   ],
   "source": [
    "# Get Nodes Depth at Particular Height\n",
    "nodes = []\n",
    "BST.getNodesAtDepth(2, nodes)"
   ]
  },
  {
   "cell_type": "code",
   "execution_count": 155,
   "metadata": {},
   "outputs": [
    {
     "name": "stdout",
     "output_type": "stream",
     "text": [
      "Found it\n"
     ]
    },
    {
     "data": {
      "text/plain": [
       "<__main__.BinaryTree at 0x14a4ae7f9a0>"
      ]
     },
     "execution_count": 155,
     "metadata": {},
     "output_type": "execute_result"
    }
   ],
   "source": [
    "# Search in BinaryTree\n",
    "BST.search(80)"
   ]
  },
  {
   "cell_type": "code",
   "execution_count": 159,
   "metadata": {},
   "outputs": [
    {
     "data": {
      "text/plain": [
       "True"
      ]
     },
     "execution_count": 159,
     "metadata": {},
     "output_type": "execute_result"
    }
   ],
   "source": [
    "# Check BT tree is imbalanced or not\n",
    "BST.isBalanced()"
   ]
  },
  {
   "cell_type": "code",
   "execution_count": 207,
   "metadata": {},
   "outputs": [],
   "source": [
    "# Making unbalanced Tree\n",
    "ubst = BinaryTree(50)\n",
    "ubst.add(25)\n",
    "ubst.add(75)\n",
    "ubst.add(100)\n",
    "ubst.add(150)"
   ]
  },
  {
   "cell_type": "code",
   "execution_count": 208,
   "metadata": {},
   "outputs": [
    {
     "data": {
      "text/plain": [
       "False"
      ]
     },
     "execution_count": 208,
     "metadata": {},
     "output_type": "execute_result"
    }
   ],
   "source": [
    "# Check UBST tee is balanced or not\n",
    "ubst.isBalanced()"
   ]
  },
  {
   "cell_type": "code",
   "execution_count": 209,
   "metadata": {},
   "outputs": [
    {
     "name": "stdout",
     "output_type": "stream",
     "text": [
      "Tree \n",
      "              50  \n",
      "       /             \\\n",
      "      25              75              \n",
      "   /     \\         /     \\\n",
      "  100     \n",
      " / \\     / \\     / \\     / \\\n",
      "150 \n",
      "\n"
     ]
    }
   ],
   "source": [
    "printBT(ubst)"
   ]
  },
  {
   "cell_type": "code",
   "execution_count": 210,
   "metadata": {},
   "outputs": [
    {
     "name": "stdout",
     "output_type": "stream",
     "text": [
      "Binary Tree \n",
      "      50  \n",
      "   /     \\\n",
      "  35      70      \n",
      " / \\     / \\\n",
      "30  40  60  80  \n",
      "\n"
     ]
    }
   ],
   "source": [
    "# Print BinaryTree\n",
    "printBT(BST)"
   ]
  },
  {
   "cell_type": "code",
   "execution_count": 211,
   "metadata": {},
   "outputs": [
    {
     "name": "stdout",
     "output_type": "stream",
     "text": [
      "Tree \n",
      "  35  \n",
      " / \\\n",
      "30  40  \n",
      "\n"
     ]
    }
   ],
   "source": [
    "# Print left tree only on depth of 1\n",
    "printBT(BST.left)"
   ]
  },
  {
   "cell_type": "code",
   "execution_count": 1,
   "metadata": {},
   "outputs": [],
   "source": [
    "class Node:\n",
    "    def __init__(self, data):\n",
    "        self.data = data\n",
    "        self.left = None\n",
    "        self.right = None\n",
    "    \n",
    "    def add(self, data):\n",
    "        if self.data == data:\n",
    "            return\n",
    "        \n",
    "        if data < self.data:\n",
    "            if self.left is None:\n",
    "                self.left = Node(data)\n",
    "                return\n",
    "            \n",
    "            else:\n",
    "                self.left.add(data)\n",
    "                self.left = self.left.fixImbalanceIfExists()\n",
    "        \n",
    "        if data > self.data:\n",
    "            if self.right is None:\n",
    "                self.right = Node(data)\n",
    "                return\n",
    "            else:\n",
    "                self.right.add(data)\n",
    "                self.right = self.right.fixImbalanceIfExists()\n",
    "            \n",
    "        \n",
    "        if self.left and self.data > data:\n",
    "            return self.left.add(data)\n",
    "        if self.right and self.data < data:\n",
    "            return self.right.add(data)\n",
    "    \n",
    "    def findMin(self):\n",
    "        if self.left:\n",
    "            return self.left.findMin()\n",
    "        return self.data\n",
    "    \n",
    "    def delete(self, target):\n",
    "        if self.data == target:\n",
    "            if self.left and self.right:\n",
    "                minValue = self.right.findMin()\n",
    "                self.data = minValue\n",
    "                self.right = self.right.delete(minValue)\n",
    "                return self\n",
    "            else:\n",
    "                return self.left or self.right\n",
    "        \n",
    "        if self.right and target > self.data:\n",
    "            self.right = self.right.delete(target)\n",
    "        \n",
    "        if self.left and target < self.data:\n",
    "            self.left = self.left.delete(target)\n",
    "        \n",
    "        return self.fixImbalanceIfExists()\n",
    "    \n",
    "    def isBalanced(self):\n",
    "        leftHeight = self.left.height()+1 if self.left else 0\n",
    "        rightHeight = self.right.height()+1 if self.right else 0\n",
    "        return abs(leftHeight - rightHeight) < 2\n",
    "    \n",
    "    def toStr(self):\n",
    "        if not self.isBalanced():\n",
    "            return str(self.data)+'*'\n",
    "        return str(self.data)\n",
    "        \n",
    "    def search(self, target):\n",
    "        if self.data == target:\n",
    "            print(\"found it\")\n",
    "            return self\n",
    "        if self.left and self.data > target:\n",
    "            return self.left.search(target)\n",
    "        if self.right and self.data < target:\n",
    "            return self.right.search(target)\n",
    "        \n",
    "        print(\"Value is not in trees\")\n",
    "    \n",
    "    def traversePreorder(self):\n",
    "        print(self.data)\n",
    "        if self.left:\n",
    "            self.left.traversePreorder()\n",
    "        \n",
    "        if self.right:\n",
    "            self.right.traversePreorder()\n",
    "        \n",
    "        \n",
    "    def traverseInorder(self):\n",
    "        if self.left:\n",
    "            self.left.traverseInorder()\n",
    "        print(self.data)\n",
    "        if self.right:\n",
    "            self.right.traverseInorder()\n",
    "            \n",
    "    def traversePostorder(self):\n",
    "        if self.left:\n",
    "            self.left.traversePostorder()\n",
    "        if self.right:\n",
    "            self.right.traversePostorder()\n",
    "        print(self.data)\n",
    "    \n",
    "    def height(self, h =0):\n",
    "        leftHeight = self.left.height(h+1) if self.left else h\n",
    "        rightHeight = self.right.height(h+1) if self.right else h\n",
    "        return max(leftHeight, rightHeight)\n",
    "    \n",
    "    def getNodesAtDepth(self, depth, nodes=[]):\n",
    "        if depth == 0:\n",
    "            nodes.append(self)\n",
    "            return nodes\n",
    "        if self.left:\n",
    "            self.left.getNodesAtDepth(depth-1, nodes)\n",
    "        else:\n",
    "            nodes.extend([None]*2**(depth-1))\n",
    "        if self.right:\n",
    "            self.right.getNodesAtDepth(depth-1, nodes)\n",
    "        else:\n",
    "            nodes.extend([None]*2**(depth-1))\n",
    "        return nodes\n",
    "    \n",
    "    def getLeftRightHeightDifference(self):\n",
    "        leftHeight = self.left.height()+1 if self.left else 0\n",
    "        rightHeight = self.right.height()+1 if self.right else 0\n",
    "        return leftHeight - rightHeight\n",
    "    \n",
    "    def fixImbalanceIfExists(self):\n",
    "        if self.getLeftRightHeightDifference() > 1:\n",
    "            # Left imbalance\n",
    "            if self.left.getLeftRightHeightDifference() > 0:\n",
    "                # left left imbalance\n",
    "                return rotateRight(self)\n",
    "            else:\n",
    "                # left right imbalance\n",
    "                self.left = rotateLeft(self.left)\n",
    "                return rotateRight(self)\n",
    "            \n",
    "        elif self.getLeftRightHeightDifference() < -1:\n",
    "            # right imbalance\n",
    "            if self.right.getLeftRightHeightDifference() < 0:\n",
    "                # right right\n",
    "                return rotateLeft(self)\n",
    "            else:\n",
    "                # right left\n",
    "                self.right = rotateRight(self.right)\n",
    "                return rotateLeft(self)\n",
    "        return self\n",
    "    \n",
    "    def rebalance(self):\n",
    "        if self.left:\n",
    "            self.left.rebalance()\n",
    "            self.left = self.left.fixImbalanceIfExists()\n",
    "        if self.right:\n",
    "            self.right.rebalance()\n",
    "            self.right = self.right.fixImbalanceIfExists()\n",
    "    \n",
    "        "
   ]
  },
  {
   "cell_type": "code",
   "execution_count": null,
   "metadata": {},
   "outputs": [],
   "source": [
    "#### Rotate Right\n",
    "def rotateRight(root):\n",
    "    pivot = root.left\n",
    "    reattachNode = pivot.right\n",
    "    root.left = reattachNode\n",
    "    pivot.right = root\n",
    "    return pivot"
   ]
  },
  {
   "cell_type": "code",
   "execution_count": null,
   "metadata": {},
   "outputs": [],
   "source": [
    "### Rotate Left\n",
    "def rotateLeft(root):\n",
    "    pivot = root.right\n",
    "    reattachNode = pivot.left\n",
    "    root.right = reattachNode\n",
    "    pivot.left = root\n",
    "    return pivot\n",
    "    "
   ]
  },
  {
   "cell_type": "code",
   "execution_count": null,
   "metadata": {},
   "outputs": [],
   "source": []
  },
  {
   "cell_type": "code",
   "execution_count": 2,
   "metadata": {},
   "outputs": [],
   "source": [
    "class Tree:\n",
    "    def __init__(self, root, name=''):\n",
    "        self.root = root\n",
    "        self.name = name\n",
    "    \n",
    "    def search(self, target):\n",
    "        return self.root.search(target)\n",
    "    \n",
    "    def traversePreorder(self):\n",
    "        self.root.traversePreorder()\n",
    "    \n",
    "    def traverseInorder(self):\n",
    "        self.root.traverseInorder()\n",
    "    \n",
    "    def traversePostorder(self):\n",
    "        self.root.traversePostorder()\n",
    "    \n",
    "    def height(self):\n",
    "        return self.root.height()\n",
    "    \n",
    "    def add(self, data):\n",
    "        self.root.add(data)\n",
    "        self.root = self.root.fixImbalanceIfExists()\n",
    "    \n",
    "    def delete(self, target):\n",
    "        self.root = self.root.delete(target)\n",
    "    \n",
    "    def rebalance(self):\n",
    "        self.root.rebalance()\n",
    "        self.root = self.root.fixImbalanceIfExists()\n",
    "    \n",
    "    def getNodesAtDepth(self, depth):\n",
    "        return self.root.getNodesAtDepth(depth)\n",
    "    \n",
    "    def _nodeToChar(self, n, spacing):\n",
    "        if n is None:\n",
    "            return '_'+(' '*spacing)\n",
    "        spacing = spacing-len(n.toStr())+1\n",
    "        return n.toStr()+(' '*spacing)\n",
    "    \n",
    "    def print(self, label=''):\n",
    "        print(self.name+' '+label)\n",
    "        height = self.root.height()\n",
    "        spacing = 3\n",
    "        width = int((2**height-1) * (spacing+1) + 1)\n",
    "        # Root offset\n",
    "        offset = int((width-1)/2)\n",
    "        for depth in range(0, height+1):\n",
    "            if depth > 0:\n",
    "                # print directional lines\n",
    "                print(' '*(offset+1) + (' '*(spacing+2)).join(['/'+ (' '*(spacing-2))+'\\\\']*(2**(depth-1))))\n",
    "            arr = []\n",
    "            row = self.root.getNodesAtDepth(depth, arr)\n",
    "            print((' '*offset)+''.join([self._nodeToChar(n, spacing) for n in row]))\n",
    "            spacing = offset+1\n",
    "            offset = int(offset/2)  -1\n",
    "        print('')"
   ]
  },
  {
   "cell_type": "code",
   "execution_count": null,
   "metadata": {},
   "outputs": [],
   "source": [
    "node = Node(10)\n",
    "node.left = Node(5)\n",
    "node.right = Node(15)\n",
    "node.left.left = Node(2)\n",
    "node.left.right = Node(6)\n",
    "node.right.left = Node(13)\n",
    "node.right.right = Node(100)"
   ]
  },
  {
   "cell_type": "code",
   "execution_count": null,
   "metadata": {},
   "outputs": [],
   "source": [
    "print(node.right.data)\n",
    "print(node.right.right.data)"
   ]
  },
  {
   "cell_type": "code",
   "execution_count": null,
   "metadata": {},
   "outputs": [],
   "source": [
    "## search in tree\n",
    "# myTree = Tree(node, 'Rishi tree')\n",
    "# found = myTree.root.search(100)\n",
    "# found.data\n",
    "\n",
    "node.search(100)"
   ]
  },
  {
   "cell_type": "code",
   "execution_count": 3,
   "metadata": {},
   "outputs": [],
   "source": [
    "tree = Tree(Node(50), 'Tree Traversals')\n",
    "tree.root.left = Node(25)\n",
    "tree.root.right = Node(75)\n",
    "tree.root.left.left = Node(10)\n",
    "tree.root.left.right = Node(35)\n",
    "tree.root.left.right.left = Node(30)\n",
    "tree.root.left.right.right = Node(42)\n",
    "tree.root.left.left.left = Node(5)\n",
    "tree.root.left.left.right = Node(13)"
   ]
  },
  {
   "cell_type": "code",
   "execution_count": null,
   "metadata": {},
   "outputs": [],
   "source": [
    "# Traverse Pre-Order\n",
    "tree.traversePreorder()"
   ]
  },
  {
   "cell_type": "code",
   "execution_count": null,
   "metadata": {},
   "outputs": [],
   "source": [
    "# Traverse In-Order\n",
    "tree.traverseInorder()"
   ]
  },
  {
   "cell_type": "code",
   "execution_count": null,
   "metadata": {},
   "outputs": [],
   "source": [
    "# Traverse Post-Order\n",
    "tree.traversePostorder()"
   ]
  },
  {
   "cell_type": "markdown",
   "metadata": {},
   "source": [
    "#### Getting The Maximum Height of a Tree"
   ]
  },
  {
   "cell_type": "code",
   "execution_count": 4,
   "metadata": {},
   "outputs": [
    {
     "data": {
      "text/plain": [
       "3"
      ]
     },
     "execution_count": 4,
     "metadata": {},
     "output_type": "execute_result"
    }
   ],
   "source": [
    "tree.root.height()"
   ]
  },
  {
   "cell_type": "markdown",
   "metadata": {},
   "source": [
    "#### Getting All Nodes At Particular Depth"
   ]
  },
  {
   "cell_type": "code",
   "execution_count": 8,
   "metadata": {},
   "outputs": [
    {
     "data": {
      "text/plain": [
       "[50, 25, 75, 10, 35, None, None, 10, 35, None, None]"
      ]
     },
     "execution_count": 8,
     "metadata": {},
     "output_type": "execute_result"
    }
   ],
   "source": [
    "tree.getNodesAtDepth(2)"
   ]
  },
  {
   "cell_type": "markdown",
   "metadata": {},
   "source": [
    "#### Printing a Tree"
   ]
  },
  {
   "cell_type": "code",
   "execution_count": 24,
   "metadata": {},
   "outputs": [
    {
     "name": "stdout",
     "output_type": "stream",
     "text": [
      "Tree Traversals bst\n",
      "                              50  \n",
      "               /                             \\\n",
      "              25                              75                              \n",
      "       /             \\                 /             \\\n",
      "      10              35              _               90              \n",
      "   /     \\         /     \\         /     \\         /     \\\n",
      "  5       13      30      42      _       _       _       _       \n",
      " / \\     / \\     / \\     / \\     / \\     / \\     / \\     / \\\n",
      "_   _   _   _   _   _   _   45  _   _   _   _   _   _   _   _   \n",
      "\n"
     ]
    }
   ],
   "source": [
    "tree.print(label='bst')"
   ]
  },
  {
   "cell_type": "markdown",
   "metadata": {},
   "source": [
    "#### Adding a tree"
   ]
  },
  {
   "cell_type": "code",
   "execution_count": 22,
   "metadata": {},
   "outputs": [],
   "source": [
    "tree.add(45)"
   ]
  },
  {
   "cell_type": "markdown",
   "metadata": {},
   "source": [
    "RTFM ( right tree find minimum)"
   ]
  },
  {
   "cell_type": "code",
   "execution_count": null,
   "metadata": {},
   "outputs": [],
   "source": []
  }
 ],
 "metadata": {
  "kernelspec": {
   "display_name": "Python 3",
   "language": "python",
   "name": "python3"
  },
  "language_info": {
   "codemirror_mode": {
    "name": "ipython",
    "version": 3
   },
   "file_extension": ".py",
   "mimetype": "text/x-python",
   "name": "python",
   "nbconvert_exporter": "python",
   "pygments_lexer": "ipython3",
   "version": "3.8.3"
  }
 },
 "nbformat": 4,
 "nbformat_minor": 4
}
