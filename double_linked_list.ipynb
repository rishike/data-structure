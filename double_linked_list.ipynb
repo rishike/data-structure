{
 "cells": [
  {
   "cell_type": "code",
   "execution_count": 23,
   "id": "e3be63f5",
   "metadata": {},
   "outputs": [],
   "source": [
    "# Doubly Linked List"
   ]
  },
  {
   "cell_type": "code",
   "execution_count": 22,
   "id": "5e056508",
   "metadata": {},
   "outputs": [],
   "source": [
    "class Node:\n",
    "    def __init__(self, value):\n",
    "        self.value = value\n",
    "        self.next = None\n",
    "        self.prev = None"
   ]
  },
  {
   "cell_type": "code",
   "execution_count": 47,
   "id": "95497f53",
   "metadata": {},
   "outputs": [],
   "source": [
    "class DoublyLinkedList:\n",
    "    def __init__(self, value):\n",
    "        new_node = Node(value)\n",
    "        self.head = new_node\n",
    "        self.tail = new_node\n",
    "        self.length = 1\n",
    "    \n",
    "    def append(self, value):\n",
    "        # append data at its tail\n",
    "        new_node = Node(value)\n",
    "        \n",
    "        if self.head is None:\n",
    "            self.head = new_node\n",
    "            self.tail = new_node\n",
    "        else:\n",
    "            self.tail.next = new_node\n",
    "            new_node.prev = self.tail\n",
    "            self.tail = new_node\n",
    "        self.length += 1\n",
    "        return True\n",
    "    \n",
    "    def pop(self):\n",
    "        # remove data from end\n",
    "        if self.length == 0:\n",
    "            return None\n",
    "        temp = self.tail\n",
    "        if self.length == 1:\n",
    "            self.head = None\n",
    "            self.tail = None\n",
    "        else:\n",
    "            self.tail = self.tail.prev\n",
    "            self.tail.next = None\n",
    "            temp.prev = None\n",
    "        self.length -= 1\n",
    "        return temp.value\n",
    "        \n",
    "    \n",
    "    def print_list(self):\n",
    "        temp = self.head\n",
    "        while temp is not None:\n",
    "            print(temp.value)\n",
    "            temp = temp.next"
   ]
  },
  {
   "cell_type": "code",
   "execution_count": 48,
   "id": "9da54b91",
   "metadata": {},
   "outputs": [],
   "source": [
    "my_doubly_linked_list = DoublyLinkedList(7)"
   ]
  },
  {
   "cell_type": "code",
   "execution_count": 49,
   "id": "31fa7196",
   "metadata": {},
   "outputs": [
    {
     "name": "stdout",
     "output_type": "stream",
     "text": [
      "7\n"
     ]
    }
   ],
   "source": [
    "# Printing Doubly Linked List\n",
    "my_doubly_linked_list.print_list()"
   ]
  },
  {
   "cell_type": "code",
   "execution_count": 50,
   "id": "7b40e35d",
   "metadata": {},
   "outputs": [
    {
     "data": {
      "text/plain": [
       "True"
      ]
     },
     "execution_count": 50,
     "metadata": {},
     "output_type": "execute_result"
    }
   ],
   "source": [
    "# Appending an item to an end\n",
    "my_doubly_linked_list.append(5)"
   ]
  },
  {
   "cell_type": "code",
   "execution_count": 40,
   "id": "03acca9c",
   "metadata": {},
   "outputs": [
    {
     "name": "stdout",
     "output_type": "stream",
     "text": [
      "7\n",
      "5\n"
     ]
    }
   ],
   "source": [
    "my_doubly_linked_list.print_list()"
   ]
  },
  {
   "cell_type": "code",
   "execution_count": 51,
   "id": "632ec056",
   "metadata": {},
   "outputs": [
    {
     "data": {
      "text/plain": [
       "5"
      ]
     },
     "execution_count": 51,
     "metadata": {},
     "output_type": "execute_result"
    }
   ],
   "source": [
    "# Popping an item to an end\n",
    "# case 1 when item is more than 1\n",
    "my_doubly_linked_list.pop()"
   ]
  },
  {
   "cell_type": "code",
   "execution_count": 52,
   "id": "612cdfaf",
   "metadata": {},
   "outputs": [
    {
     "data": {
      "text/plain": [
       "7"
      ]
     },
     "execution_count": 52,
     "metadata": {},
     "output_type": "execute_result"
    }
   ],
   "source": [
    "# Popping an item to an end\n",
    "# case 2 when item is 1\n",
    "my_doubly_linked_list.pop()"
   ]
  },
  {
   "cell_type": "code",
   "execution_count": 53,
   "id": "1a5f99ca",
   "metadata": {},
   "outputs": [],
   "source": [
    "# Popping an item to an end\n",
    "# case 3 when item is None\n",
    "print(my_doubly_linked_list.pop()"
   ]
  }
 ],
 "metadata": {
  "kernelspec": {
   "display_name": "Python 3",
   "language": "python",
   "name": "python3"
  },
  "language_info": {
   "codemirror_mode": {
    "name": "ipython",
    "version": 3
   },
   "file_extension": ".py",
   "mimetype": "text/x-python",
   "name": "python",
   "nbconvert_exporter": "python",
   "pygments_lexer": "ipython3",
   "version": "3.8.8"
  }
 },
 "nbformat": 4,
 "nbformat_minor": 5
}
