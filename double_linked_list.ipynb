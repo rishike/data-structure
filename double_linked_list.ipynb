{
 "cells": [
  {
   "cell_type": "code",
   "execution_count": 23,
   "id": "e3be63f5",
   "metadata": {},
   "outputs": [],
   "source": [
    "# Doubly Linked List"
   ]
  },
  {
   "cell_type": "code",
   "execution_count": 58,
   "id": "5e056508",
   "metadata": {},
   "outputs": [],
   "source": [
    "class Node:\n",
    "    def __init__(self, value):\n",
    "        self.value = value\n",
    "        self.next = None\n",
    "        self.prev = None"
   ]
  },
  {
   "cell_type": "code",
   "execution_count": 120,
   "id": "95497f53",
   "metadata": {},
   "outputs": [],
   "source": [
    "class DoublyLinkedList:\n",
    "    def __init__(self, value):\n",
    "        new_node = Node(value)\n",
    "        self.head = new_node\n",
    "        self.tail = new_node\n",
    "        self.length = 1\n",
    "    \n",
    "    def append(self, value):\n",
    "        # append data at its tail\n",
    "        new_node = Node(value)\n",
    "        \n",
    "        if self.head is None:\n",
    "            self.head = new_node\n",
    "            self.tail = new_node\n",
    "        else:\n",
    "            self.tail.next = new_node\n",
    "            new_node.prev = self.tail\n",
    "            self.tail = new_node\n",
    "        self.length += 1\n",
    "        return True\n",
    "    \n",
    "    def prepend(self, value):\n",
    "        # append data in the begining\n",
    "        new_node = Node(value)\n",
    "        if self.length == 0:\n",
    "            self.head = new_node\n",
    "            self.tail = new_node\n",
    "        else:\n",
    "            new_node.next = self.head\n",
    "            self.head.prev = new_node\n",
    "            self.head = new_node\n",
    "        self.length += 1\n",
    "        return True\n",
    "    \n",
    "    def pop(self):\n",
    "        # remove data from end\n",
    "        if self.length == 0:\n",
    "            return None\n",
    "        temp = self.tail\n",
    "        if self.length == 1:\n",
    "            self.head = None\n",
    "            self.tail = None\n",
    "        else:\n",
    "            self.tail = self.tail.prev\n",
    "            self.tail.next = None\n",
    "            temp.prev = None\n",
    "        self.length -= 1\n",
    "        return temp\n",
    "    \n",
    "    def pop_first(self):\n",
    "        # remove data from begining\n",
    "        if self.length == 0:\n",
    "            return None\n",
    "        temp = self.head\n",
    "        if self.length == 1:\n",
    "            self.head = None\n",
    "            self.tail = None\n",
    "        else:\n",
    "            self.head = self.head.next\n",
    "            self.head.prev = None\n",
    "            temp.next = None\n",
    "        \n",
    "        self.length -= 1\n",
    "        return temp\n",
    "    \n",
    "    def get(self, index):\n",
    "        # get an item at given index\n",
    "        if index < 0 or index >= self.length:\n",
    "            return None\n",
    "        temp = self.head\n",
    "        if index < self.length/2:\n",
    "            for _ in range(index):\n",
    "                temp = temp.next\n",
    "        else:\n",
    "            temp = self.tail\n",
    "            for _ in range(self.length -1 , index, -1):\n",
    "                temp = temp.prev\n",
    "        return temp\n",
    "    \n",
    "    def set_value(self, index, value):\n",
    "        # Set an value at given index\n",
    "        temp = self.get(index)\n",
    "        if temp:\n",
    "            temp.value = value\n",
    "            return True\n",
    "        return False\n",
    "    \n",
    "    def insert(self, index, value):\n",
    "        # insert a new node at given index\n",
    "        if index < 0 or index > self.length:\n",
    "            return False\n",
    "        \n",
    "        if index == 0:\n",
    "            return self.prepend(value)\n",
    "        \n",
    "        if index == self.length:\n",
    "            return self.append(value)\n",
    "        \n",
    "        new_node = Node(value)\n",
    "        before = self.get(index - 1)\n",
    "        after = before.next\n",
    "        \n",
    "        new_node.prev = before\n",
    "        new_node.next = after\n",
    "        \n",
    "        before.next = new_node\n",
    "        after.prev = new_node\n",
    "        \n",
    "        self.length += 1\n",
    "        return True\n",
    "    \n",
    "    def remove(self, index):\n",
    "        # remove a node at given index\n",
    "        if index < 0 or index >= self.length:\n",
    "            return None\n",
    "        \n",
    "        if index == 0:\n",
    "            return self.pop_first()\n",
    "        \n",
    "        if index == self.length:\n",
    "            return self.pop()\n",
    "        \n",
    "        temp = self.get(index)\n",
    "        temp.next.prev = temp.prev\n",
    "        temp.prev.next = temp.next\n",
    "        temp.next = None\n",
    "        temp.prev = None\n",
    "        self.length -= 1\n",
    "        return temp\n",
    "        \n",
    "        \n",
    "    def print_list(self):\n",
    "        temp = self.head\n",
    "        while temp is not None:\n",
    "            print(temp.value)\n",
    "            temp = temp.next"
   ]
  },
  {
   "cell_type": "code",
   "execution_count": 121,
   "id": "9da54b91",
   "metadata": {},
   "outputs": [],
   "source": [
    "my_doubly_linked_list = DoublyLinkedList(7) "
   ]
  },
  {
   "cell_type": "code",
   "execution_count": 122,
   "id": "31fa7196",
   "metadata": {},
   "outputs": [
    {
     "name": "stdout",
     "output_type": "stream",
     "text": [
      "7\n"
     ]
    }
   ],
   "source": [
    "# Printing Doubly Linked List\n",
    "my_doubly_linked_list.print_list()"
   ]
  },
  {
   "cell_type": "code",
   "execution_count": 123,
   "id": "7b40e35d",
   "metadata": {},
   "outputs": [
    {
     "data": {
      "text/plain": [
       "True"
      ]
     },
     "execution_count": 123,
     "metadata": {},
     "output_type": "execute_result"
    }
   ],
   "source": [
    "# Appending an item to an end\n",
    "my_doubly_linked_list.append(5)"
   ]
  },
  {
   "cell_type": "code",
   "execution_count": 124,
   "id": "03acca9c",
   "metadata": {},
   "outputs": [
    {
     "name": "stdout",
     "output_type": "stream",
     "text": [
      "7\n",
      "5\n"
     ]
    }
   ],
   "source": [
    "my_doubly_linked_list.print_list()"
   ]
  },
  {
   "cell_type": "code",
   "execution_count": 125,
   "id": "50c02d75",
   "metadata": {},
   "outputs": [
    {
     "data": {
      "text/plain": [
       "True"
      ]
     },
     "execution_count": 125,
     "metadata": {},
     "output_type": "execute_result"
    }
   ],
   "source": [
    "# Prepending an item to the begining\n",
    "my_doubly_linked_list.prepend(10)\n",
    "my_doubly_linked_list.prepend(50)"
   ]
  },
  {
   "cell_type": "code",
   "execution_count": 126,
   "id": "64fe9e13",
   "metadata": {},
   "outputs": [
    {
     "name": "stdout",
     "output_type": "stream",
     "text": [
      "50\n",
      "10\n",
      "7\n",
      "5\n"
     ]
    }
   ],
   "source": [
    "my_doubly_linked_list.print_list()"
   ]
  },
  {
   "cell_type": "code",
   "execution_count": 127,
   "id": "8a5a4f49",
   "metadata": {},
   "outputs": [
    {
     "name": "stdout",
     "output_type": "stream",
     "text": [
      "10\n"
     ]
    }
   ],
   "source": [
    "# Get an item at given index\n",
    "# if not found return None\n",
    "print(my_doubly_linked_list.get(1).value)"
   ]
  },
  {
   "cell_type": "code",
   "execution_count": 128,
   "id": "7ac2a422",
   "metadata": {},
   "outputs": [
    {
     "data": {
      "text/plain": [
       "True"
      ]
     },
     "execution_count": 128,
     "metadata": {},
     "output_type": "execute_result"
    }
   ],
   "source": [
    "# setting new value at  given index \n",
    "# lets say index 2\n",
    "#old value is 7\n",
    "# new value is 67\n",
    "my_doubly_linked_list.set_value(2, 67)"
   ]
  },
  {
   "cell_type": "code",
   "execution_count": 129,
   "id": "12604265",
   "metadata": {},
   "outputs": [
    {
     "name": "stdout",
     "output_type": "stream",
     "text": [
      "50\n",
      "10\n",
      "67\n",
      "5\n"
     ]
    }
   ],
   "source": [
    "my_doubly_linked_list.print_list()"
   ]
  },
  {
   "cell_type": "code",
   "execution_count": 130,
   "id": "f9979d47",
   "metadata": {},
   "outputs": [
    {
     "data": {
      "text/plain": [
       "True"
      ]
     },
     "execution_count": 130,
     "metadata": {},
     "output_type": "execute_result"
    }
   ],
   "source": [
    "# Inserting new value at given index\n",
    "# let say insert new node at index 3 \n",
    "my_doubly_linked_list.insert(3, 150)"
   ]
  },
  {
   "cell_type": "code",
   "execution_count": 117,
   "id": "3e0fc1b4",
   "metadata": {},
   "outputs": [
    {
     "name": "stdout",
     "output_type": "stream",
     "text": [
      "50\n",
      "10\n",
      "67\n",
      "150\n",
      "5\n"
     ]
    }
   ],
   "source": [
    "my_doubly_linked_list.print_list()"
   ]
  },
  {
   "cell_type": "code",
   "execution_count": 131,
   "id": "f0eb2e04",
   "metadata": {},
   "outputs": [
    {
     "data": {
      "text/plain": [
       "67"
      ]
     },
     "execution_count": 131,
     "metadata": {},
     "output_type": "execute_result"
    }
   ],
   "source": [
    "# remove the node at given index\n",
    "# let say remove node at index 2\n",
    "my_doubly_linked_list.remove(2).value"
   ]
  },
  {
   "cell_type": "code",
   "execution_count": 132,
   "id": "9f0e15c2",
   "metadata": {},
   "outputs": [
    {
     "name": "stdout",
     "output_type": "stream",
     "text": [
      "50\n",
      "10\n",
      "150\n",
      "5\n"
     ]
    }
   ],
   "source": [
    "my_doubly_linked_list.print_list()"
   ]
  },
  {
   "cell_type": "code",
   "execution_count": 99,
   "id": "632ec056",
   "metadata": {},
   "outputs": [
    {
     "data": {
      "text/plain": [
       "5"
      ]
     },
     "execution_count": 99,
     "metadata": {},
     "output_type": "execute_result"
    }
   ],
   "source": [
    "# Popping an item to an end\n",
    "# case 1 when item is more than 1\n",
    "my_doubly_linked_list.pop().value"
   ]
  },
  {
   "cell_type": "code",
   "execution_count": 52,
   "id": "612cdfaf",
   "metadata": {},
   "outputs": [
    {
     "data": {
      "text/plain": [
       "7"
      ]
     },
     "execution_count": 52,
     "metadata": {},
     "output_type": "execute_result"
    }
   ],
   "source": [
    "# Popping an item to an end\n",
    "# case 2 when item is 1\n",
    "my_doubly_linked_list.pop().value"
   ]
  },
  {
   "cell_type": "code",
   "execution_count": 23,
   "id": "1a5f99ca",
   "metadata": {},
   "outputs": [
    {
     "name": "stdout",
     "output_type": "stream",
     "text": [
      "None\n"
     ]
    }
   ],
   "source": [
    "# Popping an item to an end\n",
    "# case 3 when item is None\n",
    "print(my_doubly_linked_list.pop())"
   ]
  },
  {
   "cell_type": "code",
   "execution_count": 18,
   "id": "c9421e16",
   "metadata": {},
   "outputs": [
    {
     "data": {
      "text/plain": [
       "10"
      ]
     },
     "execution_count": 18,
     "metadata": {},
     "output_type": "execute_result"
    }
   ],
   "source": [
    "# Popping an item to an begining\n",
    "# case 1 when item is more than 1\n",
    "my_doubly_linked_list.pop_first().value"
   ]
  },
  {
   "cell_type": "code",
   "execution_count": 20,
   "id": "7465cd87",
   "metadata": {},
   "outputs": [
    {
     "data": {
      "text/plain": [
       "5"
      ]
     },
     "execution_count": 20,
     "metadata": {},
     "output_type": "execute_result"
    }
   ],
   "source": [
    "# Popping an item to an begining\n",
    "# case 2 when item is 1\n",
    "my_doubly_linked_list.pop_first().value"
   ]
  },
  {
   "cell_type": "code",
   "execution_count": 22,
   "id": "97d157af",
   "metadata": {},
   "outputs": [
    {
     "name": "stdout",
     "output_type": "stream",
     "text": [
      "None\n"
     ]
    }
   ],
   "source": [
    "# Popping an item to an begining\n",
    "# case 3 when item is None\n",
    "print(my_doubly_linked_list.pop_first())"
   ]
  }
 ],
 "metadata": {
  "kernelspec": {
   "display_name": "Python 3",
   "language": "python",
   "name": "python3"
  },
  "language_info": {
   "codemirror_mode": {
    "name": "ipython",
    "version": 3
   },
   "file_extension": ".py",
   "mimetype": "text/x-python",
   "name": "python",
   "nbconvert_exporter": "python",
   "pygments_lexer": "ipython3",
   "version": "3.8.8"
  }
 },
 "nbformat": 4,
 "nbformat_minor": 5
}
